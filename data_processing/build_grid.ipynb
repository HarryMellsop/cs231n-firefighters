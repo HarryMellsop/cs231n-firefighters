{
 "cells": [
  {
   "cell_type": "code",
   "execution_count": 1,
   "metadata": {},
   "outputs": [],
   "source": [
    "import sqlite3\n",
    "import pandas as pd\n",
    "import numpy as np\n",
    "import pickle\n",
    "import geopandas\n",
    "from shapely.geometry import Polygon\n",
    "import uuid"
   ]
  },
  {
   "cell_type": "code",
   "execution_count": 2,
   "metadata": {},
   "outputs": [],
   "source": [
    "cnx = sqlite3.connect('../us_wildfire_dataset/FPA_FOD_20170508.sqlite')\n",
    "df = pd.read_sql_query(\"SELECT DISCOVERY_DATE, CONT_DATE, LATITUDE, LONGITUDE, STATE, FIRE_NAME, FIRE_SIZE_CLASS, FIRE_SIZE,STAT_CAUSE_DESCR FROM fires\", cnx)"
   ]
  },
  {
   "cell_type": "code",
   "execution_count": 3,
   "metadata": {
    "tags": [
     "outputPrepend"
    ]
   },
   "outputs": [],
   "source": [
    "def filter_raw_data(df, state='CA', min_class=None):\n",
    "\n",
    "    # drop states\n",
    "    df_filt = df[df.STATE == 'CA']\n",
    "    df_filt = df_filt.drop(['STATE'], axis=1)\n",
    "\n",
    "    # drop fire classes\n",
    "    if min_class is not None:\n",
    "        df_filt.FIRE_SIZE_CLASS = df_filt.FIRE_SIZE_CLASS.apply(ord)\n",
    "        df_filt = df_filt[df_filt.FIRE_SIZE_CLASS >= ord(min_class)]\n",
    "\n",
    "    # reformat dates\n",
    "    df_filt.DISCOVERY_DATE = pd.to_datetime(df['DISCOVERY_DATE'], unit='D', origin='julian')\n",
    "    df_filt.CONT_DATE = pd.to_datetime(df['CONT_DATE'], unit='D', origin='julian')\n",
    "\n",
    "    # convert coordinates\n",
    "    df_filt = geopandas.GeoDataFrame(df_filt, geometry=geopandas.points_from_xy(\n",
    "        df_filt.LONGITUDE, df_filt.LATITUDE))\n",
    "    df_filt = df_filt.drop(['LONGITUDE'], axis=1)\n",
    "    df_filt = df_filt.drop(['LATITUDE'], axis=1)\n",
    "    df_filt.insert(2, 'COORD', df_filt.pop('geometry'))\n",
    "\n",
    "    # remove missing values\n",
    "    df_filt = df_filt.dropna()\n",
    "\n",
    "    # reformat head\n",
    "    df_filt.columns = [\n",
    "        'start_date', 'end_date', 'geometry',\n",
    "        'name', 'size_class', 'size', 'cause'\n",
    "    ]\n",
    "\n",
    "    # sort by start dates\n",
    "    df_filt = df_filt.sort_values(by='start_date')\n",
    "    df_filt = df_filt.reset_index()\n",
    "\n",
    "    return df_filt"
   ]
  },
  {
   "cell_type": "code",
   "execution_count": 4,
   "metadata": {
    "tags": [
     "outputPrepend"
    ]
   },
   "outputs": [],
   "source": [
    "def extract_geo_fires(df, area):\n",
    "\n",
    "    # return fires within polygon\n",
    "    res = df[df.within(area)]\n",
    "    return res\n",
    "\n",
    "\n",
    "def build_geo_grid(df, grid_area, square_size, verbose=False):\n",
    "    bounds = grid_area.bounds\n",
    "\n",
    "    # calculate number of grids in lat/long directions\n",
    "    long_steps = int((bounds[2] - bounds[0]) / square_size)\n",
    "    lat_steps = int((bounds[3] - bounds[1]) / square_size)\n",
    "\n",
    "    grid_df = []\n",
    "    prog, total = 0, long_steps * lat_steps\n",
    "    for i in range(long_steps):\n",
    "        for j in range(lat_steps):\n",
    "\n",
    "            # update progress\n",
    "            prog += 1\n",
    "            if verbose and prog % 10 == 0:\n",
    "                print('Progress: {}/{}'.format(prog, total), flush=True)\n",
    "            \n",
    "            # get south-east grid square corner\n",
    "            c_lon = bounds[0] + i * square_size\n",
    "            c_lat = bounds[1] + j * square_size\n",
    "\n",
    "            # create grid square\n",
    "            grid = Polygon([\n",
    "                (c_lon, c_lat), \n",
    "                (c_lon + square_size, c_lat), \n",
    "                (c_lon, c_lat + square_size), \n",
    "                (c_lon + square_size, c_lat + square_size)\n",
    "            ])\n",
    "\n",
    "            fires = extract_geo_fires(df, grid)\n",
    "            grid_df.append([uuid.uuid4(), grid, fires.index])\n",
    "\n",
    "    # build grid df\n",
    "    grid_df = geopandas.GeoDataFrame(grid_df)\n",
    "    grid_df.columns = ['grid_id', 'grid_square', 'fire_indices']\n",
    "    return grid_df"
   ]
  },
  {
   "cell_type": "code",
   "execution_count": 5,
   "metadata": {},
   "outputs": [
    {
     "output_type": "stream",
     "name": "stdout",
     "text": "Progress: 10/16\n"
    }
   ],
   "source": [
    "# coordinate-square north of San Bernardino/Riverside \n",
    "p = Polygon([(-118, 34), (-118, 36), (-116, 34), (-116, 36)])\n",
    "\n",
    "# filter raw data from dataset and build sexy format\n",
    "df_filt = filter_raw_data(df)\n",
    "\n",
    "# df_filt is ordered by start_date with the following columns:\n",
    "#   'start_date', 'end_date', 'geometry', 'name', 'size_class', 'size', 'cause'\n",
    "\n",
    "# build df with each grid square area (from grid area `p` with grid square size 0.1) and corresponding fires indices (which indexes complete list of fires in df_filt)\n",
    "grid_df = build_geo_grid(df_filt, p, 0.5, verbose=True)\n",
    "\n",
    "# grid_df has the following columns:\n",
    "#    'grid_id', 'grid_square', 'fire_indices'\n",
    "#    grid_id: a random uuid to identify the grid square for later\n",
    "#    grid_square: polygon object of the grid square\n",
    "#    fire_indices: list of indices of the fires from df_filt within the grid_square"
   ]
  },
  {
   "cell_type": "code",
   "execution_count": 6,
   "metadata": {
    "tags": [
     "outputPrepend"
    ]
   },
   "outputs": [],
   "source": [
    "def label_grid_square(df, grid_df, start_date='1992-01', end_date='2015-12', verbose=False):\n",
    "    \n",
    "    # build date range (in months)\n",
    "    date_range = [str(d) for d in np.arange(\n",
    "        start_date, \n",
    "        end_date, \n",
    "        dtype='datetime64[M]'\n",
    "    )]    \n",
    "\n",
    "    # iterate over all grid squares \n",
    "    label_df = []\n",
    "    prog, total = 0, grid_df.shape[0]\n",
    "    for i in range(grid_df.shape[0]):\n",
    "        \n",
    "        # update progress\n",
    "        prog += 1\n",
    "        if verbose and prog % 10 == 0:\n",
    "            print('Progress: {}/{}'.format(prog, total), flush=True)\n",
    "                \n",
    "        # get grid square fires\n",
    "        id = grid_df.loc[i, 'grid_id']\n",
    "        grid_square = grid_df.loc[i, 'grid_square']\n",
    "        fire_indices = list(grid_df.loc[i, 'fire_indices'])\n",
    "        fires = df.loc[fire_indices, :]\n",
    "        \n",
    "        # collect all months in fire date range\n",
    "        months = []\n",
    "        for _, row in fires.iterrows(): \n",
    "            start = row.start_date.date()\n",
    "            end = (row.end_date + pd.DateOffset(months=1)).date()\n",
    "            months.extend([str(d) for d in np.arange(start, end, dtype='datetime64[M]')])\n",
    "        fire_months = list(set(months))\n",
    "        \n",
    "        # label fire months\n",
    "        month_labels = []\n",
    "        for month in date_range:\n",
    "            if month in fire_months: month_labels.append(1)\n",
    "            else: month_labels.append(0)\n",
    "        \n",
    "        # add labels\n",
    "        labels = [id, grid_square] + month_labels\n",
    "        label_df.append(labels)\n",
    "        \n",
    "    # build label df\n",
    "    label_df = pd.DataFrame(label_df)\n",
    "    label_df.columns = ['grid_id', 'grid_square'] + date_range\n",
    "    return label_df"
   ]
  },
  {
   "cell_type": "code",
   "execution_count": 7,
   "metadata": {},
   "outputs": [
    {
     "output_type": "stream",
     "name": "stdout",
     "text": "Progress: 10/16\n"
    }
   ],
   "source": [
    "    \n",
    "# labels whether there was a fire in each grid square \n",
    "label_df = label_grid_square(df_filt, grid_df, verbose=True)\n",
    "\n",
    "# label_df has the following columns:\n",
    "#    'grid_id', 'grid_square', 'months ...'\n",
    "#    grid_id: a random uuid to identify the grid square for later\n",
    "#    grid_square: polygon object of the grid square\n",
    "#    indices: the rest of the columns are a label for each month (0 if there was no fire in the grid square during them onth and 1 otherwise)"
   ]
  },
  {
   "cell_type": "code",
   "execution_count": 8,
   "metadata": {},
   "outputs": [
    {
     "output_type": "stream",
     "name": "stdout",
     "text": "grid_id  \\\n0   8f6e2515-fbb8-4e85-bc53-252efc4c17ef   \n1   caea15cb-4bae-434a-a050-ca65c11601b0   \n2   6bd7d797-df2a-48b4-b85d-260bea0916f6   \n3   ad5b6c7f-a7e4-4a2d-8279-244262f3afe8   \n4   1ae13da5-6bb8-4ec2-a2e6-68cbd5c86667   \n5   2f6a6c10-4561-4769-9ca2-fd7e422ad953   \n6   04289e2a-6490-490c-af8b-c74ddbae98c7   \n7   80a4514f-18bf-494d-95f9-aa6e023a155d   \n8   2f253ae3-3b69-4114-b0dd-a1bca7a16eab   \n9   bf5330c2-0167-42e7-8489-340a6bc3d400   \n10  c2dc7892-4775-4eb3-b178-9e2aefda4232   \n11  0b6962c9-c171-45e5-996c-be610e814ed2   \n12  19cef0f6-2617-4c05-adac-8508c36eb5bb   \n13  b9e916df-ecad-441d-a7e5-7ecf0d454105   \n14  dd9d37d2-f8ef-4460-bc1a-55313738cae0   \n15  4660b52a-13e3-4682-bd0f-7d60e74868b0   \n\n                                          grid_square  1992-01  1992-02  \\\n0   POLYGON ((-118 34, -117.5 34, -118 34.5, -117....        0        0   \n1   POLYGON ((-118 34.5, -117.5 34.5, -118 35, -11...        0        0   \n2   POLYGON ((-118 35, -117.5 35, -118 35.5, -117....        0        0   \n3   POLYGON ((-118 35.5, -117.5 35.5, -118 36, -11...        0        0   \n4   POLYGON ((-117.5 34, -117 34, -117.5 34.5, -11...        0        0   \n5   POLYGON ((-117.5 34.5, -117 34.5, -117.5 35, -...        0        0   \n6   POLYGON ((-117.5 35, -117 35, -117.5 35.5, -11...        0        0   \n7   POLYGON ((-117.5 35.5, -117 35.5, -117.5 36, -...        0        0   \n8   POLYGON ((-117 34, -116.5 34, -117 34.5, -116....        0        0   \n9   POLYGON ((-117 34.5, -116.5 34.5, -117 35, -11...        0        0   \n10  POLYGON ((-117 35, -116.5 35, -117 35.5, -116....        0        0   \n11  POLYGON ((-117 35.5, -116.5 35.5, -117 36, -11...        0        0   \n12  POLYGON ((-116.5 34, -116 34, -116.5 34.5, -11...        0        0   \n13  POLYGON ((-116.5 34.5, -116 34.5, -116.5 35, -...        0        0   \n14  POLYGON ((-116.5 35, -116 35, -116.5 35.5, -11...        1        0   \n15  POLYGON ((-116.5 35.5, -116 35.5, -116.5 36, -...        0        0   \n\n    1992-03  1992-04  1992-05  1992-06  1992-07  1992-08  ...  2015-02  \\\n0         0        0        1        1        1        1  ...        0   \n1         0        0        0        0        0        0  ...        0   \n2         0        0        0        0        0        1  ...        0   \n3         0        0        0        1        1        0  ...        0   \n4         0        0        1        1        1        1  ...        0   \n5         0        1        1        1        1        1  ...        0   \n6         0        0        0        1        0        0  ...        0   \n7         0        0        1        0        1        0  ...        0   \n8         0        0        0        0        1        1  ...        0   \n9         0        0        0        1        0        1  ...        0   \n10        0        0        0        0        0        0  ...        0   \n11        0        0        0        0        0        0  ...        0   \n12        0        0        1        0        0        1  ...        0   \n13        0        0        0        0        0        0  ...        0   \n14        0        0        1        1        0        0  ...        0   \n15        0        0        0        0        0        0  ...        0   \n\n    2015-03  2015-04  2015-05  2015-06  2015-07  2015-08  2015-09  2015-10  \\\n0         1        1        0        1        1        1        1        1   \n1         0        0        0        0        0        0        0        0   \n2         0        0        0        0        0        0        0        0   \n3         0        0        0        0        0        1        0        0   \n4         0        0        0        1        1        1        1        1   \n5         0        0        0        1        0        1        0        0   \n6         0        0        0        0        0        0        1        0   \n7         0        0        0        0        0        0        0        0   \n8         0        1        1        0        0        0        1        0   \n9         0        0        0        0        0        0        0        0   \n10        0        0        0        0        0        0        0        0   \n11        0        0        0        0        0        0        0        0   \n12        1        0        1        1        1        0        1        1   \n13        0        1        0        0        0        0        0        0   \n14        0        0        0        0        0        1        0        0   \n15        0        0        0        0        0        0        0        0   \n\n    2015-11  \n0         0  \n1         0  \n2         0  \n3         0  \n4         1  \n5         0  \n6         0  \n7         0  \n8         0  \n9         0  \n10        0  \n11        0  \n12        1  \n13        0  \n14        0  \n15        0  \n\n[16 rows x 289 columns]\n"
    }
   ],
   "source": [
    "print(label_df)"
   ]
  },
  {
   "cell_type": "code",
   "execution_count": 21,
   "metadata": {
    "tags": [
     "outputPrepend",
     "outputPrepend",
     "outputPrepend",
     "outputPrepend",
     "outputPrepend",
     "outputPrepend",
     "outputPrepend",
     "outputPrepend",
     "outputPrepend",
     "outputPrepend",
     "outputPrepend",
     "outputPrepend",
     "outputPrepend",
     "outputPrepend"
    ]
   },
   "outputs": [],
   "source": [
    "output = []\n",
    "\n",
    "for index, row in label_df.iterrows():\n",
    "    for rowIndex, col in enumerate(row[2:-1]):\n",
    "        # if not on fire\n",
    "        if col == 0:\n",
    "            # include implicit conversion to tuple of bounds instead of polygon shape; will make working with earth engine easier\n",
    "            output.append((row[0], row[1].bounds, label_df.columns[rowIndex + 2], row[rowIndex + 1 + 2]))"
   ]
  },
  {
   "cell_type": "code",
   "execution_count": 23,
   "metadata": {
    "tags": [
     "outputPrepend",
     "outputPrepend",
     "outputPrepend"
    ]
   },
   "outputs": [],
   "source": [
    "# save the corresponding data structure to disk\n",
    "import pickle\n",
    "with open(\"../us_wildfire_dataset/labelled_temporal_polygons.pkl\", \"wb\") as f:\n",
    "    pickle.dump(output, f, protocol=pickle.HIGHEST_PROTOCOL)"
   ]
  },
  {
   "cell_type": "code",
   "execution_count": 13,
   "metadata": {
    "tags": [
     "outputPrepend",
     "outputPrepend",
     "outputPrepend",
     "outputPrepend",
     "outputPrepend"
    ]
   },
   "outputs": [],
   "source": [
    "import ee\n",
    "\n",
    "ee.Initialize()"
   ]
  },
  {
   "cell_type": "code",
   "execution_count": 14,
   "metadata": {
    "tags": [
     "outputPrepend",
     "outputPrepend",
     "outputPrepend",
     "outputPrepend",
     "outputPrepend"
    ]
   },
   "outputs": [
    {
     "output_type": "stream",
     "name": "stdout",
     "text": "116 35, -116.5 35.5, -116 35.5, -116.5 35))\nPOLYGON ((-116.5 35, -116 35, -116.5 35.5, -116 35.5, -116.5 35))\nPOLYGON ((-116.5 35, -116 35, -116.5 35.5, -116 35.5, -116.5 35))\nPOLYGON ((-116.5 35, -116 35, -116.5 35.5, -116 35.5, -116.5 35))\nPOLYGON ((-116.5 35, -116 35, -116.5 35.5, -116 35.5, -116.5 35))\nPOLYGON ((-116.5 35, -116 35, -116.5 35.5, -116 35.5, -116.5 35))\nPOLYGON ((-116.5 35, -116 35, -116.5 35.5, -116 35.5, -116.5 35))\nPOLYGON ((-116.5 35, -116 35, -116.5 35.5, -116 35.5, -116.5 35))\nPOLYGON ((-116.5 35, -116 35, -116.5 35.5, -116 35.5, -116.5 35))\nPOLYGON ((-116.5 35, -116 35, -116.5 35.5, -116 35.5, -116.5 35))\nPOLYGON ((-116.5 35, -116 35, -116.5 35.5, -116 35.5, -116.5 35))\nPOLYGON ((-116.5 35, -116 35, -116.5 35.5, -116 35.5, -116.5 35))\nPOLYGON ((-116.5 35, -116 35, -116.5 35.5, -116 35.5, -116.5 35))\nPOLYGON ((-116.5 35, -116 35, -116.5 35.5, -116 35.5, -116.5 35))\nPOLYGON ((-116.5 35, -116 35, -116.5 35.5, -116 35.5, -116.5 35))\nPOLYGON ((-116.5 35, -116 35, -116.5 35.5, -116 35.5, -116.5 35))\nPOLYGON ((-116.5 35, -116 35, -116.5 35.5, -116 35.5, -116.5 35))\nPOLYGON ((-116.5 35, -116 35, -116.5 35.5, -116 35.5, -116.5 35))\nPOLYGON ((-116.5 35, -116 35, -116.5 35.5, -116 35.5, -116.5 35))\nPOLYGON ((-116.5 35.5, -116 35.5, -116.5 36, -116 36, -116.5 35.5))\nPOLYGON ((-116.5 35.5, -116 35.5, -116.5 36, -116 36, -116.5 35.5))\nPOLYGON ((-116.5 35.5, -116 35.5, -116.5 36, -116 36, -116.5 35.5))\nPOLYGON ((-116.5 35.5, -116 35.5, -116.5 36, -116 36, -116.5 35.5))\nPOLYGON ((-116.5 35.5, -116 35.5, -116.5 36, -116 36, -116.5 35.5))\nPOLYGON ((-116.5 35.5, -116 35.5, -116.5 36, -116 36, -116.5 35.5))\nPOLYGON ((-116.5 35.5, -116 35.5, -116.5 36, -116 36, -116.5 35.5))\nPOLYGON ((-116.5 35.5, -116 35.5, -116.5 36, -116 36, -116.5 35.5))\nPOLYGON ((-116.5 35.5, -116 35.5, -116.5 36, -116 36, -116.5 35.5))\nPOLYGON ((-116.5 35.5, -116 35.5, -116.5 36, -116 36, -116.5 35.5))\nPOLYGON ((-116.5 35.5, -116 35.5, -116.5 36, -116 36, -116.5 35.5))\nPOLYGON ((-116.5 35.5, -116 35.5, -116.5 36, -116 36, -116.5 35.5))\nPOLYGON ((-116.5 35.5, -116 35.5, -116.5 36, -116 36, -116.5 35.5))\nPOLYGON ((-116.5 35.5, -116 35.5, -116.5 36, -116 36, -116.5 35.5))\nPOLYGON ((-116.5 35.5, -116 35.5, -116.5 36, -116 36, -116.5 35.5))\nPOLYGON ((-116.5 35.5, -116 35.5, -116.5 36, -116 36, -116.5 35.5))\nPOLYGON ((-116.5 35.5, -116 35.5, -116.5 36, -116 36, -116.5 35.5))\nPOLYGON ((-116.5 35.5, -116 35.5, -116.5 36, -116 36, -116.5 35.5))\nPOLYGON ((-116.5 35.5, -116 35.5, -116.5 36, -116 36, -116.5 35.5))\nPOLYGON ((-116.5 35.5, -116 35.5, -116.5 36, -116 36, -116.5 35.5))\nPOLYGON ((-116.5 35.5, -116 35.5, -116.5 36, -116 36, -116.5 35.5))\nPOLYGON ((-116.5 35.5, -116 35.5, -116.5 36, -116 36, -116.5 35.5))\nPOLYGON ((-116.5 35.5, -116 35.5, -116.5 36, -116 36, -116.5 35.5))\nPOLYGON ((-116.5 35.5, -116 35.5, -116.5 36, -116 36, -116.5 35.5))\nPOLYGON ((-116.5 35.5, -116 35.5, -116.5 36, -116 36, -116.5 35.5))\nPOLYGON ((-116.5 35.5, -116 35.5, -116.5 36, -116 36, -116.5 35.5))\nPOLYGON ((-116.5 35.5, -116 35.5, -116.5 36, -116 36, -116.5 35.5))\nPOLYGON ((-116.5 35.5, -116 35.5, -116.5 36, -116 36, -116.5 35.5))\nPOLYGON ((-116.5 35.5, -116 35.5, -116.5 36, -116 36, -116.5 35.5))\nPOLYGON ((-116.5 35.5, -116 35.5, -116.5 36, -116 36, -116.5 35.5))\nPOLYGON ((-116.5 35.5, -116 35.5, -116.5 36, -116 36, -116.5 35.5))\nPOLYGON ((-116.5 35.5, -116 35.5, -116.5 36, -116 36, -116.5 35.5))\nPOLYGON ((-116.5 35.5, -116 35.5, -116.5 36, -116 36, -116.5 35.5))\nPOLYGON ((-116.5 35.5, -116 35.5, -116.5 36, -116 36, -116.5 35.5))\nPOLYGON ((-116.5 35.5, -116 35.5, -116.5 36, -116 36, -116.5 35.5))\nPOLYGON ((-116.5 35.5, -116 35.5, -116.5 36, -116 36, -116.5 35.5))\nPOLYGON ((-116.5 35.5, -116 35.5, -116.5 36, -116 36, -116.5 35.5))\nPOLYGON ((-116.5 35.5, -116 35.5, -116.5 36, -116 36, -116.5 35.5))\nPOLYGON ((-116.5 35.5, -116 35.5, -116.5 36, -116 36, -116.5 35.5))\nPOLYGON ((-116.5 35.5, -116 35.5, -116.5 36, -116 36, -116.5 35.5))\nPOLYGON ((-116.5 35.5, -116 35.5, -116.5 36, -116 36, -116.5 35.5))\nPOLYGON ((-116.5 35.5, -116 35.5, -116.5 36, -116 36, -116.5 35.5))\nPOLYGON ((-116.5 35.5, -116 35.5, -116.5 36, -116 36, -116.5 35.5))\nPOLYGON ((-116.5 35.5, -116 35.5, -116.5 36, -116 36, -116.5 35.5))\nPOLYGON ((-116.5 35.5, -116 35.5, -116.5 36, -116 36, -116.5 35.5))\nPOLYGON ((-116.5 35.5, -116 35.5, -116.5 36, -116 36, -116.5 35.5))\nPOLYGON ((-116.5 35.5, -116 35.5, -116.5 36, -116 36, -116.5 35.5))\nPOLYGON ((-116.5 35.5, -116 35.5, -116.5 36, -116 36, -116.5 35.5))\nPOLYGON ((-116.5 35.5, -116 35.5, -116.5 36, -116 36, -116.5 35.5))\nPOLYGON ((-116.5 35.5, -116 35.5, -116.5 36, -116 36, -116.5 35.5))\nPOLYGON ((-116.5 35.5, -116 35.5, -116.5 36, -116 36, -116.5 35.5))\nPOLYGON ((-116.5 35.5, -116 35.5, -116.5 36, -116 36, -116.5 35.5))\nPOLYGON ((-116.5 35.5, -116 35.5, -116.5 36, -116 36, -116.5 35.5))\nPOLYGON ((-116.5 35.5, -116 35.5, -116.5 36, -116 36, -116.5 35.5))\nPOLYGON ((-116.5 35.5, -116 35.5, -116.5 36, -116 36, -116.5 35.5))\nPOLYGON ((-116.5 35.5, -116 35.5, -116.5 36, -116 36, -116.5 35.5))\nPOLYGON ((-116.5 35.5, -116 35.5, -116.5 36, -116 36, -116.5 35.5))\nPOLYGON ((-116.5 35.5, -116 35.5, -116.5 36, -116 36, -116.5 35.5))\nPOLYGON ((-116.5 35.5, -116 35.5, -116.5 36, -116 36, -116.5 35.5))\nPOLYGON ((-116.5 35.5, -116 35.5, -116.5 36, -116 36, -116.5 35.5))\nPOLYGON ((-116.5 35.5, -116 35.5, -116.5 36, -116 36, -116.5 35.5))\nPOLYGON ((-116.5 35.5, -116 35.5, -116.5 36, -116 36, -116.5 35.5))\nPOLYGON ((-116.5 35.5, -116 35.5, -116.5 36, -116 36, -116.5 35.5))\nPOLYGON ((-116.5 35.5, -116 35.5, -116.5 36, -116 36, -116.5 35.5))\nPOLYGON ((-116.5 35.5, -116 35.5, -116.5 36, -116 36, -116.5 35.5))\nPOLYGON ((-116.5 35.5, -116 35.5, -116.5 36, -116 36, -116.5 35.5))\nPOLYGON ((-116.5 35.5, -116 35.5, -116.5 36, -116 36, -116.5 35.5))\nPOLYGON ((-116.5 35.5, -116 35.5, -116.5 36, -116 36, -116.5 35.5))\nPOLYGON ((-116.5 35.5, -116 35.5, -116.5 36, -116 36, -116.5 35.5))\nPOLYGON ((-116.5 35.5, -116 35.5, -116.5 36, -116 36, -116.5 35.5))\nPOLYGON ((-116.5 35.5, -116 35.5, -116.5 36, -116 36, -116.5 35.5))\nPOLYGON ((-116.5 35.5, -116 35.5, -116.5 36, -116 36, -116.5 35.5))\nPOLYGON ((-116.5 35.5, -116 35.5, -116.5 36, -116 36, -116.5 35.5))\nPOLYGON ((-116.5 35.5, -116 35.5, -116.5 36, -116 36, -116.5 35.5))\nPOLYGON ((-116.5 35.5, -116 35.5, -116.5 36, -116 36, -116.5 35.5))\nPOLYGON ((-116.5 35.5, -116 35.5, -116.5 36, -116 36, -116.5 35.5))\nPOLYGON ((-116.5 35.5, -116 35.5, -116.5 36, -116 36, -116.5 35.5))\nPOLYGON ((-116.5 35.5, -116 35.5, -116.5 36, -116 36, -116.5 35.5))\nPOLYGON ((-116.5 35.5, -116 35.5, -116.5 36, -116 36, -116.5 35.5))\nPOLYGON ((-116.5 35.5, -116 35.5, -116.5 36, -116 36, -116.5 35.5))\nPOLYGON ((-116.5 35.5, -116 35.5, -116.5 36, -116 36, -116.5 35.5))\nPOLYGON ((-116.5 35.5, -116 35.5, -116.5 36, -116 36, -116.5 35.5))\nPOLYGON ((-116.5 35.5, -116 35.5, -116.5 36, -116 36, -116.5 35.5))\nPOLYGON ((-116.5 35.5, -116 35.5, -116.5 36, -116 36, -116.5 35.5))\nPOLYGON ((-116.5 35.5, -116 35.5, -116.5 36, -116 36, -116.5 35.5))\nPOLYGON ((-116.5 35.5, -116 35.5, -116.5 36, -116 36, -116.5 35.5))\nPOLYGON ((-116.5 35.5, -116 35.5, -116.5 36, -116 36, -116.5 35.5))\nPOLYGON ((-116.5 35.5, -116 35.5, -116.5 36, -116 36, -116.5 35.5))\nPOLYGON ((-116.5 35.5, -116 35.5, -116.5 36, -116 36, -116.5 35.5))\nPOLYGON ((-116.5 35.5, -116 35.5, -116.5 36, -116 36, -116.5 35.5))\nPOLYGON ((-116.5 35.5, -116 35.5, -116.5 36, -116 36, -116.5 35.5))\nPOLYGON ((-116.5 35.5, -116 35.5, -116.5 36, -116 36, -116.5 35.5))\nPOLYGON ((-116.5 35.5, -116 35.5, -116.5 36, -116 36, -116.5 35.5))\nPOLYGON ((-116.5 35.5, -116 35.5, -116.5 36, -116 36, -116.5 35.5))\nPOLYGON ((-116.5 35.5, -116 35.5, -116.5 36, -116 36, -116.5 35.5))\nPOLYGON ((-116.5 35.5, -116 35.5, -116.5 36, -116 36, -116.5 35.5))\nPOLYGON ((-116.5 35.5, -116 35.5, -116.5 36, -116 36, -116.5 35.5))\nPOLYGON ((-116.5 35.5, -116 35.5, -116.5 36, -116 36, -116.5 35.5))\nPOLYGON ((-116.5 35.5, -116 35.5, -116.5 36, -116 36, -116.5 35.5))\nPOLYGON ((-116.5 35.5, -116 35.5, -116.5 36, -116 36, -116.5 35.5))\nPOLYGON ((-116.5 35.5, -116 35.5, -116.5 36, -116 36, -116.5 35.5))\nPOLYGON ((-116.5 35.5, -116 35.5, -116.5 36, -116 36, -116.5 35.5))\nPOLYGON ((-116.5 35.5, -116 35.5, -116.5 36, -116 36, -116.5 35.5))\nPOLYGON ((-116.5 35.5, -116 35.5, -116.5 36, -116 36, -116.5 35.5))\nPOLYGON ((-116.5 35.5, -116 35.5, -116.5 36, -116 36, -116.5 35.5))\nPOLYGON ((-116.5 35.5, -116 35.5, -116.5 36, -116 36, -116.5 35.5))\nPOLYGON ((-116.5 35.5, -116 35.5, -116.5 36, -116 36, -116.5 35.5))\nPOLYGON ((-116.5 35.5, -116 35.5, -116.5 36, -116 36, -116.5 35.5))\nPOLYGON ((-116.5 35.5, -116 35.5, -116.5 36, -116 36, -116.5 35.5))\nPOLYGON ((-116.5 35.5, -116 35.5, -116.5 36, -116 36, -116.5 35.5))\nPOLYGON ((-116.5 35.5, -116 35.5, -116.5 36, -116 36, -116.5 35.5))\nPOLYGON ((-116.5 35.5, -116 35.5, -116.5 36, -116 36, -116.5 35.5))\nPOLYGON ((-116.5 35.5, -116 35.5, -116.5 36, -116 36, -116.5 35.5))\nPOLYGON ((-116.5 35.5, -116 35.5, -116.5 36, -116 36, -116.5 35.5))\nPOLYGON ((-116.5 35.5, -116 35.5, -116.5 36, -116 36, -116.5 35.5))\nPOLYGON ((-116.5 35.5, -116 35.5, -116.5 36, -116 36, -116.5 35.5))\nPOLYGON ((-116.5 35.5, -116 35.5, -116.5 36, -116 36, -116.5 35.5))\nPOLYGON ((-116.5 35.5, -116 35.5, -116.5 36, -116 36, -116.5 35.5))\nPOLYGON ((-116.5 35.5, -116 35.5, -116.5 36, -116 36, -116.5 35.5))\nPOLYGON ((-116.5 35.5, -116 35.5, -116.5 36, -116 36, -116.5 35.5))\nPOLYGON ((-116.5 35.5, -116 35.5, -116.5 36, -116 36, -116.5 35.5))\nPOLYGON ((-116.5 35.5, -116 35.5, -116.5 36, -116 36, -116.5 35.5))\nPOLYGON ((-116.5 35.5, -116 35.5, -116.5 36, -116 36, -116.5 35.5))\nPOLYGON ((-116.5 35.5, -116 35.5, -116.5 36, -116 36, -116.5 35.5))\nPOLYGON ((-116.5 35.5, -116 35.5, -116.5 36, -116 36, -116.5 35.5))\nPOLYGON ((-116.5 35.5, -116 35.5, -116.5 36, -116 36, -116.5 35.5))\nPOLYGON ((-116.5 35.5, -116 35.5, -116.5 36, -116 36, -116.5 35.5))\nPOLYGON ((-116.5 35.5, -116 35.5, -116.5 36, -116 36, -116.5 35.5))\nPOLYGON ((-116.5 35.5, -116 35.5, -116.5 36, -116 36, -116.5 35.5))\nPOLYGON ((-116.5 35.5, -116 35.5, -116.5 36, -116 36, -116.5 35.5))\nPOLYGON ((-116.5 35.5, -116 35.5, -116.5 36, -116 36, -116.5 35.5))\nPOLYGON ((-116.5 35.5, -116 35.5, -116.5 36, -116 36, -116.5 35.5))\nPOLYGON ((-116.5 35.5, -116 35.5, -116.5 36, -116 36, -116.5 35.5))\nPOLYGON ((-116.5 35.5, -116 35.5, -116.5 36, -116 36, -116.5 35.5))\nPOLYGON ((-116.5 35.5, -116 35.5, -116.5 36, -116 36, -116.5 35.5))\nPOLYGON ((-116.5 35.5, -116 35.5, -116.5 36, -116 36, -116.5 35.5))\nPOLYGON ((-116.5 35.5, -116 35.5, -116.5 36, -116 36, -116.5 35.5))\nPOLYGON ((-116.5 35.5, -116 35.5, -116.5 36, -116 36, -116.5 35.5))\nPOLYGON ((-116.5 35.5, -116 35.5, -116.5 36, -116 36, -116.5 35.5))\nPOLYGON ((-116.5 35.5, -116 35.5, -116.5 36, -116 36, -116.5 35.5))\nPOLYGON ((-116.5 35.5, -116 35.5, -116.5 36, -116 36, -116.5 35.5))\nPOLYGON ((-116.5 35.5, -116 35.5, -116.5 36, -116 36, -116.5 35.5))\nPOLYGON ((-116.5 35.5, -116 35.5, -116.5 36, -116 36, -116.5 35.5))\nPOLYGON ((-116.5 35.5, -116 35.5, -116.5 36, -116 36, -116.5 35.5))\nPOLYGON ((-116.5 35.5, -116 35.5, -116.5 36, -116 36, -116.5 35.5))\nPOLYGON ((-116.5 35.5, -116 35.5, -116.5 36, -116 36, -116.5 35.5))\nPOLYGON ((-116.5 35.5, -116 35.5, -116.5 36, -116 36, -116.5 35.5))\nPOLYGON ((-116.5 35.5, -116 35.5, -116.5 36, -116 36, -116.5 35.5))\nPOLYGON ((-116.5 35.5, -116 35.5, -116.5 36, -116 36, -116.5 35.5))\nPOLYGON ((-116.5 35.5, -116 35.5, -116.5 36, -116 36, -116.5 35.5))\nPOLYGON ((-116.5 35.5, -116 35.5, -116.5 36, -116 36, -116.5 35.5))\nPOLYGON ((-116.5 35.5, -116 35.5, -116.5 36, -116 36, -116.5 35.5))\nPOLYGON ((-116.5 35.5, -116 35.5, -116.5 36, -116 36, -116.5 35.5))\nPOLYGON ((-116.5 35.5, -116 35.5, -116.5 36, -116 36, -116.5 35.5))\nPOLYGON ((-116.5 35.5, -116 35.5, -116.5 36, -116 36, -116.5 35.5))\nPOLYGON ((-116.5 35.5, -116 35.5, -116.5 36, -116 36, -116.5 35.5))\nPOLYGON ((-116.5 35.5, -116 35.5, -116.5 36, -116 36, -116.5 35.5))\nPOLYGON ((-116.5 35.5, -116 35.5, -116.5 36, -116 36, -116.5 35.5))\nPOLYGON ((-116.5 35.5, -116 35.5, -116.5 36, -116 36, -116.5 35.5))\nPOLYGON ((-116.5 35.5, -116 35.5, -116.5 36, -116 36, -116.5 35.5))\nPOLYGON ((-116.5 35.5, -116 35.5, -116.5 36, -116 36, -116.5 35.5))\nPOLYGON ((-116.5 35.5, -116 35.5, -116.5 36, -116 36, -116.5 35.5))\nPOLYGON ((-116.5 35.5, -116 35.5, -116.5 36, -116 36, -116.5 35.5))\nPOLYGON ((-116.5 35.5, -116 35.5, -116.5 36, -116 36, -116.5 35.5))\nPOLYGON ((-116.5 35.5, -116 35.5, -116.5 36, -116 36, -116.5 35.5))\nPOLYGON ((-116.5 35.5, -116 35.5, -116.5 36, -116 36, -116.5 35.5))\nPOLYGON ((-116.5 35.5, -116 35.5, -116.5 36, -116 36, -116.5 35.5))\nPOLYGON ((-116.5 35.5, -116 35.5, -116.5 36, -116 36, -116.5 35.5))\nPOLYGON ((-116.5 35.5, -116 35.5, -116.5 36, -116 36, -116.5 35.5))\nPOLYGON ((-116.5 35.5, -116 35.5, -116.5 36, -116 36, -116.5 35.5))\nPOLYGON ((-116.5 35.5, -116 35.5, -116.5 36, -116 36, -116.5 35.5))\nPOLYGON ((-116.5 35.5, -116 35.5, -116.5 36, -116 36, -116.5 35.5))\nPOLYGON ((-116.5 35.5, -116 35.5, -116.5 36, -116 36, -116.5 35.5))\nPOLYGON ((-116.5 35.5, -116 35.5, -116.5 36, -116 36, -116.5 35.5))\nPOLYGON ((-116.5 35.5, -116 35.5, -116.5 36, -116 36, -116.5 35.5))\nPOLYGON ((-116.5 35.5, -116 35.5, -116.5 36, -116 36, -116.5 35.5))\nPOLYGON ((-116.5 35.5, -116 35.5, -116.5 36, -116 36, -116.5 35.5))\nPOLYGON ((-116.5 35.5, -116 35.5, -116.5 36, -116 36, -116.5 35.5))\nPOLYGON ((-116.5 35.5, -116 35.5, -116.5 36, -116 36, -116.5 35.5))\nPOLYGON ((-116.5 35.5, -116 35.5, -116.5 36, -116 36, -116.5 35.5))\nPOLYGON ((-116.5 35.5, -116 35.5, -116.5 36, -116 36, -116.5 35.5))\nPOLYGON ((-116.5 35.5, -116 35.5, -116.5 36, -116 36, -116.5 35.5))\nPOLYGON ((-116.5 35.5, -116 35.5, -116.5 36, -116 36, -116.5 35.5))\nPOLYGON ((-116.5 35.5, -116 35.5, -116.5 36, -116 36, -116.5 35.5))\nPOLYGON ((-116.5 35.5, -116 35.5, -116.5 36, -116 36, -116.5 35.5))\nPOLYGON ((-116.5 35.5, -116 35.5, -116.5 36, -116 36, -116.5 35.5))\nPOLYGON ((-116.5 35.5, -116 35.5, -116.5 36, -116 36, -116.5 35.5))\nPOLYGON ((-116.5 35.5, -116 35.5, -116.5 36, -116 36, -116.5 35.5))\nPOLYGON ((-116.5 35.5, -116 35.5, -116.5 36, -116 36, -116.5 35.5))\nPOLYGON ((-116.5 35.5, -116 35.5, -116.5 36, -116 36, -116.5 35.5))\nPOLYGON ((-116.5 35.5, -116 35.5, -116.5 36, -116 36, -116.5 35.5))\nPOLYGON ((-116.5 35.5, -116 35.5, -116.5 36, -116 36, -116.5 35.5))\nPOLYGON ((-116.5 35.5, -116 35.5, -116.5 36, -116 36, -116.5 35.5))\nPOLYGON ((-116.5 35.5, -116 35.5, -116.5 36, -116 36, -116.5 35.5))\nPOLYGON ((-116.5 35.5, -116 35.5, -116.5 36, -116 36, -116.5 35.5))\nPOLYGON ((-116.5 35.5, -116 35.5, -116.5 36, -116 36, -116.5 35.5))\nPOLYGON ((-116.5 35.5, -116 35.5, -116.5 36, -116 36, -116.5 35.5))\nPOLYGON ((-116.5 35.5, -116 35.5, -116.5 36, -116 36, -116.5 35.5))\nPOLYGON ((-116.5 35.5, -116 35.5, -116.5 36, -116 36, -116.5 35.5))\nPOLYGON ((-116.5 35.5, -116 35.5, -116.5 36, -116 36, -116.5 35.5))\nPOLYGON ((-116.5 35.5, -116 35.5, -116.5 36, -116 36, -116.5 35.5))\nPOLYGON ((-116.5 35.5, -116 35.5, -116.5 36, -116 36, -116.5 35.5))\nPOLYGON ((-116.5 35.5, -116 35.5, -116.5 36, -116 36, -116.5 35.5))\nPOLYGON ((-116.5 35.5, -116 35.5, -116.5 36, -116 36, -116.5 35.5))\nPOLYGON ((-116.5 35.5, -116 35.5, -116.5 36, -116 36, -116.5 35.5))\nPOLYGON ((-116.5 35.5, -116 35.5, -116.5 36, -116 36, -116.5 35.5))\nPOLYGON ((-116.5 35.5, -116 35.5, -116.5 36, -116 36, -116.5 35.5))\nPOLYGON ((-116.5 35.5, -116 35.5, -116.5 36, -116 36, -116.5 35.5))\nPOLYGON ((-116.5 35.5, -116 35.5, -116.5 36, -116 36, -116.5 35.5))\nPOLYGON ((-116.5 35.5, -116 35.5, -116.5 36, -116 36, -116.5 35.5))\nPOLYGON ((-116.5 35.5, -116 35.5, -116.5 36, -116 36, -116.5 35.5))\nPOLYGON ((-116.5 35.5, -116 35.5, -116.5 36, -116 36, -116.5 35.5))\nPOLYGON ((-116.5 35.5, -116 35.5, -116.5 36, -116 36, -116.5 35.5))\nPOLYGON ((-116.5 35.5, -116 35.5, -116.5 36, -116 36, -116.5 35.5))\nPOLYGON ((-116.5 35.5, -116 35.5, -116.5 36, -116 36, -116.5 35.5))\nPOLYGON ((-116.5 35.5, -116 35.5, -116.5 36, -116 36, -116.5 35.5))\nPOLYGON ((-116.5 35.5, -116 35.5, -116.5 36, -116 36, -116.5 35.5))\nPOLYGON ((-116.5 35.5, -116 35.5, -116.5 36, -116 36, -116.5 35.5))\nPOLYGON ((-116.5 35.5, -116 35.5, -116.5 36, -116 36, -116.5 35.5))\nPOLYGON ((-116.5 35.5, -116 35.5, -116.5 36, -116 36, -116.5 35.5))\nPOLYGON ((-116.5 35.5, -116 35.5, -116.5 36, -116 36, -116.5 35.5))\nPOLYGON ((-116.5 35.5, -116 35.5, -116.5 36, -116 36, -116.5 35.5))\nPOLYGON ((-116.5 35.5, -116 35.5, -116.5 36, -116 36, -116.5 35.5))\nPOLYGON ((-116.5 35.5, -116 35.5, -116.5 36, -116 36, -116.5 35.5))\nPOLYGON ((-116.5 35.5, -116 35.5, -116.5 36, -116 36, -116.5 35.5))\nPOLYGON ((-116.5 35.5, -116 35.5, -116.5 36, -116 36, -116.5 35.5))\nPOLYGON ((-116.5 35.5, -116 35.5, -116.5 36, -116 36, -116.5 35.5))\nPOLYGON ((-116.5 35.5, -116 35.5, -116.5 36, -116 36, -116.5 35.5))\nPOLYGON ((-116.5 35.5, -116 35.5, -116.5 36, -116 36, -116.5 35.5))\nPOLYGON ((-116.5 35.5, -116 35.5, -116.5 36, -116 36, -116.5 35.5))\nPOLYGON ((-116.5 35.5, -116 35.5, -116.5 36, -116 36, -116.5 35.5))\nPOLYGON ((-116.5 35.5, -116 35.5, -116.5 36, -116 36, -116.5 35.5))\nPOLYGON ((-116.5 35.5, -116 35.5, -116.5 36, -116 36, -116.5 35.5))\nPOLYGON ((-116.5 35.5, -116 35.5, -116.5 36, -116 36, -116.5 35.5))\nPOLYGON ((-116.5 35.5, -116 35.5, -116.5 36, -116 36, -116.5 35.5))\nPOLYGON ((-116.5 35.5, -116 35.5, -116.5 36, -116 36, -116.5 35.5))\nPOLYGON ((-116.5 35.5, -116 35.5, -116.5 36, -116 36, -116.5 35.5))\nPOLYGON ((-116.5 35.5, -116 35.5, -116.5 36, -116 36, -116.5 35.5))\nPOLYGON ((-116.5 35.5, -116 35.5, -116.5 36, -116 36, -116.5 35.5))\nPOLYGON ((-116.5 35.5, -116 35.5, -116.5 36, -116 36, -116.5 35.5))\nPOLYGON ((-116.5 35.5, -116 35.5, -116.5 36, -116 36, -116.5 35.5))\nPOLYGON ((-116.5 35.5, -116 35.5, -116.5 36, -116 36, -116.5 35.5))\nPOLYGON ((-116.5 35.5, -116 35.5, -116.5 36, -116 36, -116.5 35.5))\nPOLYGON ((-116.5 35.5, -116 35.5, -116.5 36, -116 36, -116.5 35.5))\nPOLYGON ((-116.5 35.5, -116 35.5, -116.5 36, -116 36, -116.5 35.5))\nPOLYGON ((-116.5 35.5, -116 35.5, -116.5 36, -116 36, -116.5 35.5))\nPOLYGON ((-116.5 35.5, -116 35.5, -116.5 36, -116 36, -116.5 35.5))\nPOLYGON ((-116.5 35.5, -116 35.5, -116.5 36, -116 36, -116.5 35.5))\nPOLYGON ((-116.5 35.5, -116 35.5, -116.5 36, -116 36, -116.5 35.5))\nPOLYGON ((-116.5 35.5, -116 35.5, -116.5 36, -116 36, -116.5 35.5))\nPOLYGON ((-116.5 35.5, -116 35.5, -116.5 36, -116 36, -116.5 35.5))\nPOLYGON ((-116.5 35.5, -116 35.5, -116.5 36, -116 36, -116.5 35.5))\nPOLYGON ((-116.5 35.5, -116 35.5, -116.5 36, -116 36, -116.5 35.5))\nPOLYGON ((-116.5 35.5, -116 35.5, -116.5 36, -116 36, -116.5 35.5))\nPOLYGON ((-116.5 35.5, -116 35.5, -116.5 36, -116 36, -116.5 35.5))\nPOLYGON ((-116.5 35.5, -116 35.5, -116.5 36, -116 36, -116.5 35.5))\nPOLYGON ((-116.5 35.5, -116 35.5, -116.5 36, -116 36, -116.5 35.5))\nPOLYGON ((-116.5 35.5, -116 35.5, -116.5 36, -116 36, -116.5 35.5))\nPOLYGON ((-116.5 35.5, -116 35.5, -116.5 36, -116 36, -116.5 35.5))\nPOLYGON ((-116.5 35.5, -116 35.5, -116.5 36, -116 36, -116.5 35.5))\nPOLYGON ((-116.5 35.5, -116 35.5, -116.5 36, -116 36, -116.5 35.5))\nPOLYGON ((-116.5 35.5, -116 35.5, -116.5 36, -116 36, -116.5 35.5))\nPOLYGON ((-116.5 35.5, -116 35.5, -116.5 36, -116 36, -116.5 35.5))\nPOLYGON ((-116.5 35.5, -116 35.5, -116.5 36, -116 36, -116.5 35.5))\nPOLYGON ((-116.5 35.5, -116 35.5, -116.5 36, -116 36, -116.5 35.5))\nPOLYGON ((-116.5 35.5, -116 35.5, -116.5 36, -116 36, -116.5 35.5))\nPOLYGON ((-116.5 35.5, -116 35.5, -116.5 36, -116 36, -116.5 35.5))\nPOLYGON ((-116.5 35.5, -116 35.5, -116.5 36, -116 36, -116.5 35.5))\nPOLYGON ((-116.5 35.5, -116 35.5, -116.5 36, -116 36, -116.5 35.5))\nPOLYGON ((-116.5 35.5, -116 35.5, -116.5 36, -116 36, -116.5 35.5))\nPOLYGON ((-116.5 35.5, -116 35.5, -116.5 36, -116 36, -116.5 35.5))\nPOLYGON ((-116.5 35.5, -116 35.5, -116.5 36, -116 36, -116.5 35.5))\nPOLYGON ((-116.5 35.5, -116 35.5, -116.5 36, -116 36, -116.5 35.5))\nPOLYGON ((-116.5 35.5, -116 35.5, -116.5 36, -116 36, -116.5 35.5))\nPOLYGON ((-116.5 35.5, -116 35.5, -116.5 36, -116 36, -116.5 35.5))\nPOLYGON ((-116.5 35.5, -116 35.5, -116.5 36, -116 36, -116.5 35.5))\n"
    }
   ],
   "source": [
    "for item in output:\n",
    "    # we want to grab the polygon, and download the associated image files\n",
    "    "
   ]
  },
  {
   "cell_type": "code",
   "execution_count": null,
   "metadata": {},
   "outputs": [],
   "source": []
  }
 ],
 "metadata": {
  "kernelspec": {
   "display_name": "Python (myenv)",
   "language": "python",
   "name": "myenv"
  },
  "language_info": {
   "codemirror_mode": {
    "name": "ipython",
    "version": 3
   },
   "file_extension": ".py",
   "mimetype": "text/x-python",
   "name": "python",
   "nbconvert_exporter": "python",
   "pygments_lexer": "ipython3",
   "version": "3.7.7-final"
  }
 },
 "nbformat": 4,
 "nbformat_minor": 2
}