{
 "cells": [
  {
   "cell_type": "code",
   "execution_count": 3,
   "metadata": {},
   "outputs": [],
   "source": [
    "import sqlite3\n",
    "import pandas as pd\n",
    "import numpy as np\n",
    "import pickle\n",
    "import geopandas\n",
    "from shapely.geometry import Polygon\n",
    "import uuid"
   ]
  },
  {
   "cell_type": "code",
   "execution_count": 4,
   "metadata": {},
   "outputs": [],
   "source": [
    "cnx = sqlite3.connect('../us_wildfire_dataset/FPA_FOD_20170508.sqlite')\n",
    "df = pd.read_sql_query(\"SELECT DISCOVERY_DATE, CONT_DATE, LATITUDE, LONGITUDE, STATE, FIRE_NAME, FIRE_SIZE_CLASS, FIRE_SIZE,STAT_CAUSE_DESCR FROM fires\", cnx)"
   ]
  },
  {
   "cell_type": "code",
   "execution_count": 16,
   "metadata": {
    "tags": [
     "outputPrepend"
    ]
   },
   "outputs": [],
   "source": [
    "def filter_raw_data(df, state='CA', min_class=None):\n",
    "\n",
    "    # drop states\n",
    "    df_filt = df[df.STATE == 'CA']\n",
    "    df_filt = df_filt.drop(['STATE'], axis=1)\n",
    "\n",
    "    # drop fire classes\n",
    "    if min_class is not None:\n",
    "        df_filt.FIRE_SIZE_CLASS = df_filt.FIRE_SIZE_CLASS.apply(ord)\n",
    "        df_filt = df_filt[df_filt.FIRE_SIZE_CLASS >= ord(min_class)]\n",
    "\n",
    "    # reformat dates\n",
    "    df_filt.DISCOVERY_DATE = pd.to_datetime(df['DISCOVERY_DATE'], unit='D', origin='julian')\n",
    "    df_filt.CONT_DATE = pd.to_datetime(df['CONT_DATE'], unit='D', origin='julian')\n",
    "\n",
    "    # convert coordinates\n",
    "    df_filt = geopandas.GeoDataFrame(df_filt, geometry=geopandas.points_from_xy(\n",
    "        df_filt.LONGITUDE, df_filt.LATITUDE))\n",
    "    df_filt = df_filt.drop(['LONGITUDE'], axis=1)\n",
    "    df_filt = df_filt.drop(['LATITUDE'], axis=1)\n",
    "    df_filt.insert(2, 'COORD', df_filt.pop('geometry'))\n",
    "\n",
    "    # remove missing values\n",
    "    df_filt = df_filt.dropna()\n",
    "\n",
    "    # reformat head\n",
    "    df_filt.columns = [\n",
    "        'start_date', 'end_date', 'geometry',\n",
    "        'name', 'size_class', 'size', 'cause'\n",
    "    ]\n",
    "\n",
    "    # sort by start dates\n",
    "    df_filt = df_filt.sort_values(by='start_date')\n",
    "    df_filt = df_filt.reset_index()\n",
    "\n",
    "    return df_filt"
   ]
  },
  {
   "cell_type": "code",
   "execution_count": 17,
   "metadata": {
    "tags": [
     "outputPrepend"
    ]
   },
   "outputs": [],
   "source": [
    "def extract_geo_fires(df, area):\n",
    "\n",
    "    # return fires within polygon\n",
    "    res = df[df.within(area)]\n",
    "    return res\n",
    "\n",
    "def build_geo_grid(df, grid_area, square_size, verbose=False):\n",
    "    bounds = grid_area.bounds\n",
    "\n",
    "    # calculate number of grids in lat/long directions\n",
    "    long_steps = int((bounds[2] - bounds[0]) / square_size)\n",
    "    lat_steps = int((bounds[3] - bounds[1]) / square_size)\n",
    "\n",
    "    grid_df = []\n",
    "    prog, total = 0, long_steps * lat_steps\n",
    "    for i in range(long_steps):\n",
    "        for j in range(lat_steps):\n",
    "\n",
    "            # update progress\n",
    "            prog += 1\n",
    "            if verbose and prog % 10 == 0:\n",
    "                print('Progress: {}/{}'.format(prog, total), flush=True)\n",
    "            \n",
    "            # get south-west grid square corner\n",
    "            c_lon = bounds[0] + i * square_size\n",
    "            c_lat = bounds[1] + j * square_size\n",
    "\n",
    "            # create grid square\n",
    "            grid = Polygon([\n",
    "                (c_lon, c_lat), \n",
    "                (c_lon + square_size, c_lat), \n",
    "                (c_lon, c_lat + square_size), \n",
    "                (c_lon + square_size, c_lat + square_size)\n",
    "            ])\n",
    "\n",
    "            fires = extract_geo_fires(df, grid)\n",
    "            grid_df.append([uuid.uuid4(), grid, fires.index])\n",
    "\n",
    "    # build grid df\n",
    "    grid_df = geopandas.GeoDataFrame(grid_df)\n",
    "    grid_df.columns = ['grid_id', 'grid_square', 'fire_indices']\n",
    "    return grid_df"
   ]
  },
  {
   "cell_type": "code",
   "execution_count": 18,
   "metadata": {},
   "outputs": [
    {
     "output_type": "stream",
     "name": "stdout",
     "text": "Progress: 10/16\n                                 grid_id  \\\n0   fd724b1e-8081-4e22-a6d4-c5daee378d3b   \n1   2d3f0af7-e05c-48a8-a674-5277b7e92717   \n2   270f433e-826d-4778-aeba-a3d96a4e3d9e   \n3   bd6aa27d-a282-42cd-8f41-d70cb5a7d5a4   \n4   a15efee3-a74b-4fc2-bdb5-2e7271f47280   \n5   38b24d44-826b-4b7f-8612-4114503378c4   \n6   e250087f-5c96-4a9d-8db7-0c3abff05274   \n7   2ad8d395-c2a0-426b-a40f-58c9d7894403   \n8   0e85ba05-f4de-4f4e-9bf1-df1205a241d7   \n9   6856f9e2-e612-46d7-8ad5-f3b59a518245   \n10  033e3abc-01f3-4a47-8dda-d0e13b131e34   \n11  06f06a98-4f40-478d-b73c-8d1584a3a9c2   \n12  b3e3d55d-9990-4c6f-ba71-49d830589836   \n13  91262301-05de-4a9f-bb1b-706507e4ed96   \n14  82a47734-c708-4e2b-8f99-57a36d0d533f   \n15  b2f61e54-1176-42d6-af2e-ad694c2543e4   \n\n                                          grid_square  \\\n0   POLYGON ((-118 34, -117.5 34, -118 34.5, -117....   \n1   POLYGON ((-118 34.5, -117.5 34.5, -118 35, -11...   \n2   POLYGON ((-118 35, -117.5 35, -118 35.5, -117....   \n3   POLYGON ((-118 35.5, -117.5 35.5, -118 36, -11...   \n4   POLYGON ((-117.5 34, -117 34, -117.5 34.5, -11...   \n5   POLYGON ((-117.5 34.5, -117 34.5, -117.5 35, -...   \n6   POLYGON ((-117.5 35, -117 35, -117.5 35.5, -11...   \n7   POLYGON ((-117.5 35.5, -117 35.5, -117.5 36, -...   \n8   POLYGON ((-117 34, -116.5 34, -117 34.5, -116....   \n9   POLYGON ((-117 34.5, -116.5 34.5, -117 35, -11...   \n10  POLYGON ((-117 35, -116.5 35, -117 35.5, -116....   \n11  POLYGON ((-117 35.5, -116.5 35.5, -117 36, -11...   \n12  POLYGON ((-116.5 34, -116 34, -116.5 34.5, -11...   \n13  POLYGON ((-116.5 34.5, -116 34.5, -116.5 35, -...   \n14  POLYGON ((-116.5 35, -116 35, -116.5 35.5, -11...   \n15  POLYGON ((-116.5 35.5, -116 35.5, -116.5 36, -...   \n\n                                         fire_indices  \n0   Int64Index([  288,   295,   304,   542,   568,...  \n1   Int64Index([ 3257,  4001,  7891, 15579, 16435,...  \n2   Int64Index([ 1719,  2098,  2344,  2508,  3633,...  \n3   Int64Index([  665,  1138,  1873,  2115,  2405,...  \n4   Int64Index([  200,   436,   509,   881,   893,...  \n5   Int64Index([   85,   252,   271,   323,   341,...  \n6   Int64Index([  529,  2486,  2606,  2707,  4568,...  \n7   Int64Index([301, 1140, 3887, 8799, 11991, 4434...  \n8   Int64Index([ 1152,  1618,  1908,  1913,  2269,...  \n9   Int64Index([  428,  1717,  2103,  2564,  3925,...  \n10  Int64Index([3377, 3969, 3970, 3971, 4025, 4301...  \n11          Int64Index([18073, 69104], dtype='int64')  \n12  Int64Index([  123,  1267,  2128,  2588,  4357,...  \n13  Int64Index([14468, 39905, 52625, 79528], dtype...  \n14  Int64Index([    7,    12,   102,   109,   654,...  \n15  Int64Index([2604, 5980, 11407, 29066, 31263, 3...  \n"
    }
   ],
   "source": [
    "# coordinate-square north of San Bernardino/Riverside \n",
    "p = Polygon([(-118, 34), (-118, 36), (-116, 34), (-116, 36)])\n",
    "\n",
    "# filter raw data from dataset and build sexy format\n",
    "df_filt = filter_raw_data(df)\n",
    "\n",
    "# df_filt is ordered by start_date with the following columns:\n",
    "#   'start_date', 'end_date', 'geometry', 'name', 'size_class', 'size', 'cause'\n",
    "\n",
    "# build df with each grid square area (from grid area `p` with grid square size 0.1) and corresponding fires indices (which indexes complete list of fires in df_filt)\n",
    "grid_df = build_geo_grid(df_filt, p, 0.5, verbose=True)\n",
    "\n",
    "# grid_df has the following columns:\n",
    "#    'grid_id', 'grid_square', 'fire_indices'\n",
    "#    grid_id: a random uuid to identify the grid square for later\n",
    "#    grid_square: polygon object of the grid square\n",
    "#    fire_indices: list of indices of the fires from df_filt within the grid_square"
   ]
  },
  {
   "cell_type": "code",
   "execution_count": 20,
   "metadata": {
    "tags": [
     "outputPrepend"
    ]
   },
   "outputs": [],
   "source": [
    "def label_grid_square(df, grid_df, start_date='1992-01', end_date='2015-12', verbose=False):\n",
    "    \n",
    "    # build date range (in months)\n",
    "    date_range = [str(d) for d in np.arange(\n",
    "        start_date, \n",
    "        end_date, \n",
    "        dtype='datetime64[M]'\n",
    "    )]\n",
    "\n",
    "    # iterate over all grid squares \n",
    "    label_df = []\n",
    "    prog, total = 0, grid_df.shape[0]\n",
    "    for i in range(grid_df.shape[0]):\n",
    "        \n",
    "        # update progress\n",
    "        prog += 1\n",
    "        if verbose and prog % 10 == 0:\n",
    "            print('Progress: {}/{}'.format(prog, total), flush=True)\n",
    "                \n",
    "        # get grid square fires\n",
    "        id = grid_df.loc[i, 'grid_id']\n",
    "        grid_square = grid_df.loc[i, 'grid_square']\n",
    "        fire_indices = list(grid_df.loc[i, 'fire_indices'])\n",
    "        fires = df.loc[fire_indices, :]\n",
    "        \n",
    "        # collect all months in fire date range\n",
    "        months = []\n",
    "        for _, row in fires.iterrows(): \n",
    "            start = row.start_date.date()\n",
    "            end = (row.end_date + pd.DateOffset(months=1)).date()\n",
    "            months.extend([str(d) for d in np.arange(start, end, dtype='datetime64[M]')])\n",
    "        fire_months = list(set(months))\n",
    "        \n",
    "        # label fire months\n",
    "        month_labels = []\n",
    "        for month in date_range:\n",
    "            if month in fire_months: month_labels.append(1)\n",
    "            else: month_labels.append(0)\n",
    "        \n",
    "        # add labels\n",
    "        labels = [id, grid_square] + month_labels\n",
    "        label_df.append(labels)\n",
    "        \n",
    "    # build label df\n",
    "    label_df = pd.DataFrame(label_df)\n",
    "    label_df.columns = ['grid_id', 'grid_square'] + date_range\n",
    "    return label_df"
   ]
  },
  {
   "cell_type": "code",
   "execution_count": 21,
   "metadata": {},
   "outputs": [
    {
     "output_type": "stream",
     "name": "stdout",
     "text": "Progress: 10/16\n                                 grid_id  \\\n0   fd724b1e-8081-4e22-a6d4-c5daee378d3b   \n1   2d3f0af7-e05c-48a8-a674-5277b7e92717   \n2   270f433e-826d-4778-aeba-a3d96a4e3d9e   \n3   bd6aa27d-a282-42cd-8f41-d70cb5a7d5a4   \n4   a15efee3-a74b-4fc2-bdb5-2e7271f47280   \n5   38b24d44-826b-4b7f-8612-4114503378c4   \n6   e250087f-5c96-4a9d-8db7-0c3abff05274   \n7   2ad8d395-c2a0-426b-a40f-58c9d7894403   \n8   0e85ba05-f4de-4f4e-9bf1-df1205a241d7   \n9   6856f9e2-e612-46d7-8ad5-f3b59a518245   \n10  033e3abc-01f3-4a47-8dda-d0e13b131e34   \n11  06f06a98-4f40-478d-b73c-8d1584a3a9c2   \n12  b3e3d55d-9990-4c6f-ba71-49d830589836   \n13  91262301-05de-4a9f-bb1b-706507e4ed96   \n14  82a47734-c708-4e2b-8f99-57a36d0d533f   \n15  b2f61e54-1176-42d6-af2e-ad694c2543e4   \n\n                                          grid_square  1992-01  1992-02  \\\n0   POLYGON ((-118 34, -117.5 34, -118 34.5, -117....        0        0   \n1   POLYGON ((-118 34.5, -117.5 34.5, -118 35, -11...        0        0   \n2   POLYGON ((-118 35, -117.5 35, -118 35.5, -117....        0        0   \n3   POLYGON ((-118 35.5, -117.5 35.5, -118 36, -11...        0        0   \n4   POLYGON ((-117.5 34, -117 34, -117.5 34.5, -11...        0        0   \n5   POLYGON ((-117.5 34.5, -117 34.5, -117.5 35, -...        0        0   \n6   POLYGON ((-117.5 35, -117 35, -117.5 35.5, -11...        0        0   \n7   POLYGON ((-117.5 35.5, -117 35.5, -117.5 36, -...        0        0   \n8   POLYGON ((-117 34, -116.5 34, -117 34.5, -116....        0        0   \n9   POLYGON ((-117 34.5, -116.5 34.5, -117 35, -11...        0        0   \n10  POLYGON ((-117 35, -116.5 35, -117 35.5, -116....        0        0   \n11  POLYGON ((-117 35.5, -116.5 35.5, -117 36, -11...        0        0   \n12  POLYGON ((-116.5 34, -116 34, -116.5 34.5, -11...        0        0   \n13  POLYGON ((-116.5 34.5, -116 34.5, -116.5 35, -...        0        0   \n14  POLYGON ((-116.5 35, -116 35, -116.5 35.5, -11...        1        0   \n15  POLYGON ((-116.5 35.5, -116 35.5, -116.5 36, -...        0        0   \n\n    1992-03  1992-04  1992-05  1992-06  1992-07  1992-08  ...  2015-02  \\\n0         0        0        1        1        1        1  ...        0   \n1         0        0        0        0        0        0  ...        0   \n2         0        0        0        0        0        1  ...        0   \n3         0        0        0        1        1        0  ...        0   \n4         0        0        1        1        1        1  ...        0   \n5         0        1        1        1        1        1  ...        0   \n6         0        0        0        1        0        0  ...        0   \n7         0        0        1        0        1        0  ...        0   \n8         0        0        0        0        1        1  ...        0   \n9         0        0        0        1        0        1  ...        0   \n10        0        0        0        0        0        0  ...        0   \n11        0        0        0        0        0        0  ...        0   \n12        0        0        1        0        0        1  ...        0   \n13        0        0        0        0        0        0  ...        0   \n14        0        0        1        1        0        0  ...        0   \n15        0        0        0        0        0        0  ...        0   \n\n    2015-03  2015-04  2015-05  2015-06  2015-07  2015-08  2015-09  2015-10  \\\n0         1        1        0        1        1        1        1        1   \n1         0        0        0        0        0        0        0        0   \n2         0        0        0        0        0        0        0        0   \n3         0        0        0        0        0        1        0        0   \n4         0        0        0        1        1        1        1        1   \n5         0        0        0        1        0        1        0        0   \n6         0        0        0        0        0        0        1        0   \n7         0        0        0        0        0        0        0        0   \n8         0        1        1        0        0        0        1        0   \n9         0        0        0        0        0        0        0        0   \n10        0        0        0        0        0        0        0        0   \n11        0        0        0        0        0        0        0        0   \n12        1        0        1        1        1        0        1        1   \n13        0        1        0        0        0        0        0        0   \n14        0        0        0        0        0        1        0        0   \n15        0        0        0        0        0        0        0        0   \n\n    2015-11  \n0         0  \n1         0  \n2         0  \n3         0  \n4         1  \n5         0  \n6         0  \n7         0  \n8         0  \n9         0  \n10        0  \n11        0  \n12        1  \n13        0  \n14        0  \n15        0  \n\n[16 rows x 289 columns]\n"
    }
   ],
   "source": [
    "    \n",
    "# labels whether there was a fire in each grid square \n",
    "label_df = label_grid_square(df_filt, grid_df, verbose=True)\n",
    "\n",
    "# label_df has the following columns:\n",
    "#    'grid_id', 'grid_square', 'months ...'\n",
    "#    grid_id: a random uuid to identify the grid square for later\n",
    "#    grid_square: polygon object of the grid square\n",
    "#    indices: the rest of the columns are a label for each month (0 if there was no fire in the grid square during them onth and 1 otherwise)"
   ]
  },
  {
   "cell_type": "code",
   "execution_count": null,
   "metadata": {},
   "outputs": [],
   "source": []
  }
 ],
 "metadata": {
  "kernelspec": {
   "display_name": "Python 3.7.6 64-bit",
   "language": "python",
   "name": "python37664bit96fe36b71316443d9b300233d40611fd"
  },
  "language_info": {
   "codemirror_mode": {
    "name": "ipython",
    "version": 3
   },
   "file_extension": ".py",
   "mimetype": "text/x-python",
   "name": "python",
   "nbconvert_exporter": "python",
   "pygments_lexer": "ipython3",
   "version": "3.7.6-final"
  }
 },
 "nbformat": 4,
 "nbformat_minor": 2
}