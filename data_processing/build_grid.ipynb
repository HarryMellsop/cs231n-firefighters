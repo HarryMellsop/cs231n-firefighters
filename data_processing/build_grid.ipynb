{
 "cells": [
  {
   "cell_type": "code",
   "execution_count": 1,
   "metadata": {},
   "outputs": [],
   "source": [
    "import sqlite3\n",
    "import pandas as pd\n",
    "import numpy as np\n",
    "import pickle\n",
    "import geopandas\n",
    "from shapely.geometry import Polygon\n",
    "import uuid"
   ]
  },
  {
   "cell_type": "code",
   "execution_count": 2,
   "metadata": {},
   "outputs": [],
   "source": [
    "cnx = sqlite3.connect('../us_wildfire_dataset/FPA_FOD_20170508.sqlite')\n",
    "df = pd.read_sql_query(\"SELECT DISCOVERY_DATE, CONT_DATE, LATITUDE, LONGITUDE, STATE, FIRE_NAME, FIRE_SIZE_CLASS, FIRE_SIZE,STAT_CAUSE_DESCR FROM fires\", cnx)"
   ]
  },
  {
   "cell_type": "code",
   "execution_count": 3,
   "metadata": {
    "tags": [
     "outputPrepend"
    ]
   },
   "outputs": [],
   "source": [
    "def filter_raw_data(df, state='CA', min_class=None):\n",
    "\n",
    "    # drop states\n",
    "    df_filt = df[df.STATE == 'CA']\n",
    "    df_filt = df_filt.drop(['STATE'], axis=1)\n",
    "\n",
    "    # drop fire classes\n",
    "    if min_class is not None:\n",
    "        df_filt.FIRE_SIZE_CLASS = df_filt.FIRE_SIZE_CLASS.apply(ord)\n",
    "        df_filt = df_filt[df_filt.FIRE_SIZE_CLASS >= ord(min_class)]\n",
    "\n",
    "    # reformat dates\n",
    "    df_filt.DISCOVERY_DATE = pd.to_datetime(df['DISCOVERY_DATE'], unit='D', origin='julian')\n",
    "    df_filt.CONT_DATE = pd.to_datetime(df['CONT_DATE'], unit='D', origin='julian')\n",
    "\n",
    "    # convert coordinates\n",
    "    df_filt = geopandas.GeoDataFrame(df_filt, geometry=geopandas.points_from_xy(\n",
    "        df_filt.LONGITUDE, df_filt.LATITUDE))\n",
    "    df_filt = df_filt.drop(['LONGITUDE'], axis=1)\n",
    "    df_filt = df_filt.drop(['LATITUDE'], axis=1)\n",
    "    df_filt.insert(2, 'COORD', df_filt.pop('geometry'))\n",
    "\n",
    "    # remove missing values\n",
    "    df_filt = df_filt.dropna()\n",
    "\n",
    "    # reformat head\n",
    "    df_filt.columns = [\n",
    "        'start_date', 'end_date', 'geometry',\n",
    "        'name', 'size_class', 'size', 'cause'\n",
    "    ]\n",
    "\n",
    "    # sort by start dates\n",
    "    df_filt = df_filt.sort_values(by='start_date')\n",
    "    df_filt = df_filt.reset_index()\n",
    "\n",
    "    return df_filt"
   ]
  },
  {
   "cell_type": "code",
   "execution_count": 4,
   "metadata": {
    "tags": [
     "outputPrepend"
    ]
   },
   "outputs": [],
   "source": [
    "def extract_geo_fires(df, area):\n",
    "\n",
    "    # return fires within polygon\n",
    "    res = df[df.within(area)]\n",
    "    return res\n",
    "\n",
    "\n",
    "def build_geo_grid(df, grid_area, square_size, verbose=False):\n",
    "    bounds = grid_area.bounds\n",
    "\n",
    "    # calculate number of grids in lat/long directions\n",
    "    long_steps = int((bounds[2] - bounds[0]) / square_size)\n",
    "    lat_steps = int((bounds[3] - bounds[1]) / square_size)\n",
    "\n",
    "    grid_df = []\n",
    "    prog, total = 0, long_steps * lat_steps\n",
    "    for i in range(long_steps):\n",
    "        for j in range(lat_steps):\n",
    "\n",
    "            # update progress\n",
    "            prog += 1\n",
    "            if verbose and prog % 10 == 0:\n",
    "                print('Progress: {}/{}'.format(prog, total), flush=True)\n",
    "            \n",
    "            # get south-east grid square corner\n",
    "            c_lon = bounds[0] + i * square_size\n",
    "            c_lat = bounds[1] + j * square_size\n",
    "\n",
    "            # create grid square\n",
    "            grid = Polygon([\n",
    "                (c_lon, c_lat), \n",
    "                (c_lon + square_size, c_lat), \n",
    "                (c_lon, c_lat + square_size), \n",
    "                (c_lon + square_size, c_lat + square_size)\n",
    "            ])\n",
    "\n",
    "            fires = extract_geo_fires(df, grid)\n",
    "            grid_df.append([uuid.uuid4(), grid, fires.index])\n",
    "\n",
    "    # build grid df\n",
    "    grid_df = geopandas.GeoDataFrame(grid_df)\n",
    "    grid_df.columns = ['grid_id', 'grid_square', 'fire_indices']\n",
    "    return grid_df"
   ]
  },
  {
   "cell_type": "code",
   "execution_count": 5,
   "metadata": {},
   "outputs": [
    {
     "output_type": "stream",
     "name": "stdout",
     "text": "Progress: 10/400\nProgress: 20/400\nProgress: 30/400\nProgress: 40/400\nProgress: 50/400\nProgress: 60/400\nProgress: 70/400\nProgress: 80/400\nProgress: 90/400\nProgress: 100/400\nProgress: 110/400\nProgress: 120/400\nProgress: 130/400\nProgress: 140/400\nProgress: 150/400\nProgress: 160/400\nProgress: 170/400\nProgress: 180/400\nProgress: 190/400\nProgress: 200/400\nProgress: 210/400\nProgress: 220/400\nProgress: 230/400\nProgress: 240/400\nProgress: 250/400\nProgress: 260/400\nProgress: 270/400\nProgress: 280/400\nProgress: 290/400\nProgress: 300/400\nProgress: 310/400\nProgress: 320/400\nProgress: 330/400\nProgress: 340/400\nProgress: 350/400\nProgress: 360/400\nProgress: 370/400\nProgress: 380/400\nProgress: 390/400\nProgress: 400/400\n"
    }
   ],
   "source": [
    "# coordinate-square north of San Bernardino/Riverside \n",
    "p = Polygon([(-118, 34), (-118, 36), (-116, 34), (-116, 36)])\n",
    "\n",
    "# filter raw data from dataset and build sexy format\n",
    "df_filt = filter_raw_data(df)\n",
    "\n",
    "# df_filt is ordered by start_date with the following columns:\n",
    "#   'start_date', 'end_date', 'geometry', 'name', 'size_class', 'size', 'cause'\n",
    "\n",
    "# build df with each grid square area (from grid area `p` with grid square size 0.1) and corresponding fires indices (which indexes complete list of fires in df_filt)\n",
    "grid_df = build_geo_grid(df_filt, p, 0.1, verbose=True)\n",
    "\n",
    "# grid_df has the following columns:\n",
    "#    'grid_id', 'grid_square', 'fire_indices'\n",
    "#    grid_id: a random uuid to identify the grid square for later\n",
    "#    grid_square: polygon object of the grid square\n",
    "#    fire_indices: list of indices of the fires from df_filt within the grid_square"
   ]
  },
  {
   "cell_type": "code",
   "execution_count": 6,
   "metadata": {
    "tags": [
     "outputPrepend"
    ]
   },
   "outputs": [],
   "source": [
    "def label_grid_square(df, grid_df, start_date='1992-01', end_date='2015-12', verbose=False):\n",
    "    \n",
    "    # build date range (in months)\n",
    "    date_range = [str(d) for d in np.arange(\n",
    "        start_date, \n",
    "        end_date, \n",
    "        dtype='datetime64[M]'\n",
    "    )]    \n",
    "\n",
    "    # iterate over all grid squares \n",
    "    label_df = []\n",
    "    prog, total = 0, grid_df.shape[0]\n",
    "    for i in range(grid_df.shape[0]):\n",
    "        \n",
    "        # update progress\n",
    "        prog += 1\n",
    "        if verbose and prog % 10 == 0:\n",
    "            print('Progress: {}/{}'.format(prog, total), flush=True)\n",
    "                \n",
    "        # get grid square fires\n",
    "        id = grid_df.loc[i, 'grid_id']\n",
    "        grid_square = grid_df.loc[i, 'grid_square']\n",
    "        fire_indices = list(grid_df.loc[i, 'fire_indices'])\n",
    "        fires = df.loc[fire_indices, :]\n",
    "        \n",
    "        # collect all months in fire date range\n",
    "        months = []\n",
    "        for _, row in fires.iterrows(): \n",
    "            start = row.start_date.date()\n",
    "            end = (row.end_date + pd.DateOffset(months=1)).date()\n",
    "            months.extend([str(d) for d in np.arange(start, end, dtype='datetime64[M]')])\n",
    "        fire_months = list(set(months))\n",
    "        \n",
    "        # label fire months\n",
    "        month_labels = []\n",
    "        for month in date_range:\n",
    "            if month in fire_months: month_labels.append(1)\n",
    "            else: month_labels.append(0)\n",
    "        \n",
    "        # add labels\n",
    "        labels = [id, grid_square] + month_labels\n",
    "        label_df.append(labels)\n",
    "        \n",
    "    # build label df\n",
    "    label_df = pd.DataFrame(label_df)\n",
    "    label_df.columns = ['grid_id', 'grid_square'] + date_range\n",
    "    return label_df"
   ]
  },
  {
   "cell_type": "code",
   "execution_count": 7,
   "metadata": {},
   "outputs": [
    {
     "output_type": "stream",
     "name": "stdout",
     "text": "Progress: 10/400\nProgress: 20/400\nProgress: 30/400\nProgress: 40/400\nProgress: 50/400\nProgress: 60/400\nProgress: 70/400\nProgress: 80/400\nProgress: 90/400\nProgress: 100/400\nProgress: 110/400\nProgress: 120/400\nProgress: 130/400\nProgress: 140/400\nProgress: 150/400\nProgress: 160/400\nProgress: 170/400\nProgress: 180/400\nProgress: 190/400\nProgress: 200/400\nProgress: 210/400\nProgress: 220/400\nProgress: 230/400\nProgress: 240/400\nProgress: 250/400\nProgress: 260/400\nProgress: 270/400\nProgress: 280/400\nProgress: 290/400\nProgress: 300/400\nProgress: 310/400\nProgress: 320/400\nProgress: 330/400\nProgress: 340/400\nProgress: 350/400\nProgress: 360/400\nProgress: 370/400\nProgress: 380/400\nProgress: 390/400\nProgress: 400/400\n"
    }
   ],
   "source": [
    "    \n",
    "# labels whether there was a fire in each grid square \n",
    "label_df = label_grid_square(df_filt, grid_df, verbose=True)\n",
    "\n",
    "# label_df has the following columns:\n",
    "#    'grid_id', 'grid_square', 'months ...'\n",
    "#    grid_id: a random uuid to identify the grid square for later\n",
    "#    grid_square: polygon object of the grid square\n",
    "#    indices: the rest of the columns are a label for each month (0 if there was no fire in the grid square during them onth and 1 otherwise)"
   ]
  },
  {
   "cell_type": "code",
   "execution_count": 8,
   "metadata": {},
   "outputs": [
    {
     "output_type": "stream",
     "name": "stdout",
     "text": "grid_id  \\\n0    2ccf9dc0-ecff-43bd-9016-81a9b208004e   \n1    4058542a-674b-4733-b5cb-3fdec7652d75   \n2    02bb5f7b-327c-4042-a064-90a89ef3e3b2   \n3    57952c1d-5c56-42fe-af81-89b0c87e00aa   \n4    8412d120-63c9-4516-b82c-55bf8deba61a   \n..                                    ...   \n395  f61cd048-cbff-424f-8e3c-9914450149c7   \n396  2e61fdcb-f2cd-4879-8f95-6d80b1fa364a   \n397  09a4b4cb-be25-4fa8-9d54-093d00b0991b   \n398  2229be79-feea-4cd0-92cc-343474e52464   \n399  8556e7d7-7504-4525-a984-a54343fc12e6   \n\n                                           grid_square  1992-01  1992-02  \\\n0    POLYGON ((-118 34, -117.9 34, -118 34.1, -117....        0        0   \n1    POLYGON ((-118 34.1, -117.9 34.1, -118 34.2, -...        0        0   \n2    POLYGON ((-118 34.2, -117.9 34.2, -118 34.3, -...        0        0   \n3    POLYGON ((-118 34.3, -117.9 34.3, -118 34.4, -...        0        0   \n4    POLYGON ((-118 34.4, -117.9 34.4, -118 34.5, -...        0        0   \n..                                                 ...      ...      ...   \n395  POLYGON ((-116.1 35.5, -116 35.5, -116.1 35.6,...        0        0   \n396  POLYGON ((-116.1 35.6, -116 35.6, -116.1 35.7,...        0        0   \n397  POLYGON ((-116.1 35.7, -116 35.7, -116.1 35.8,...        0        0   \n398  POLYGON ((-116.1 35.8, -116 35.8, -116.1 35.9,...        0        0   \n399  POLYGON ((-116.1 35.9, -116 35.9, -116.1 36, -...        0        0   \n\n     1992-03  1992-04  1992-05  1992-06  1992-07  1992-08  ...  2015-02  \\\n0          0        0        0        0        0        0  ...        0   \n1          0        0        0        0        0        0  ...        0   \n2          0        0        0        0        0        0  ...        0   \n3          0        0        0        0        0        0  ...        0   \n4          0        0        0        0        0        0  ...        0   \n..       ...      ...      ...      ...      ...      ...  ...      ...   \n395        0        0        0        0        0        0  ...        0   \n396        0        0        0        0        0        0  ...        0   \n397        0        0        0        0        0        0  ...        0   \n398        0        0        0        0        0        0  ...        0   \n399        0        0        0        0        0        0  ...        0   \n\n     2015-03  2015-04  2015-05  2015-06  2015-07  2015-08  2015-09  2015-10  \\\n0          0        0        0        0        0        0        0        0   \n1          0        0        0        0        0        0        0        0   \n2          0        0        0        0        0        0        0        0   \n3          0        0        0        0        0        0        0        0   \n4          0        0        0        0        0        0        0        0   \n..       ...      ...      ...      ...      ...      ...      ...      ...   \n395        0        0        0        0        0        0        0        0   \n396        0        0        0        0        0        0        0        0   \n397        0        0        0        0        0        0        0        0   \n398        0        0        0        0        0        0        0        0   \n399        0        0        0        0        0        0        0        0   \n\n     2015-11  \n0          0  \n1          0  \n2          0  \n3          0  \n4          0  \n..       ...  \n395        0  \n396        0  \n397        0  \n398        0  \n399        0  \n\n[400 rows x 289 columns]\n"
    }
   ],
   "source": [
    "print(label_df)"
   ]
  },
  {
   "cell_type": "code",
   "execution_count": 96,
   "metadata": {
    "tags": [
     "outputPrepend",
     "outputPrepend",
     "outputPrepend",
     "outputPrepend",
     "outputPrepend",
     "outputPrepend",
     "outputPrepend",
     "outputPrepend",
     "outputPrepend",
     "outputPrepend",
     "outputPrepend",
     "outputPrepend",
     "outputPrepend",
     "outputPrepend"
    ]
   },
   "outputs": [],
   "source": [
    "output = []\n",
    "num_zeros = 0\n",
    "num_subsequent_1s = 0\n",
    "total_iters = 0\n",
    "for index, row in label_df.iterrows():\n",
    "    # because we are using Landsat 7, let's make sure we constrain dates to be from 2000 onwards (hence the + 96)\n",
    "    for rowIndex, col in enumerate(row[2 + 96:-1]):\n",
    "        # if not on fire\n",
    "        total_iters += 1\n",
    "        if col == 0:\n",
    "            num_zeros += 1\n",
    "            # include implicit conversion to tuple of bounds instead of polygon shape; will make working with earth engine easier\n",
    "            output.append((row[0], row[1].bounds, label_df.columns[rowIndex + 2 + 96], row[rowIndex + 1 + 2 + 96]))\n",
    "            if row[rowIndex + 1 + 2 + 96] == 1:\n",
    "                num_subsequent_1s += 1"
   ]
  },
  {
   "cell_type": "code",
   "execution_count": 98,
   "metadata": {
    "tags": [
     "outputPrepend"
    ]
   },
   "outputs": [
    {
     "output_type": "stream",
     "name": "stdout",
     "text": "-116.0, 35.9), '2013-05', 0), (UUID('2229be79-feea-4cd0-92cc-343474e52464'), (-116.1, 35.8, -116.0, 35.9), '2013-06', 0), (UUID('2229be79-feea-4cd0-92cc-343474e52464'), (-116.1, 35.8, -116.0, 35.9), '2013-07', 0), (UUID('2229be79-feea-4cd0-92cc-343474e52464'), (-116.1, 35.8, -116.0, 35.9), '2013-08', 0), (UUID('2229be79-feea-4cd0-92cc-343474e52464'), (-116.1, 35.8, -116.0, 35.9), '2013-09', 0), (UUID('2229be79-feea-4cd0-92cc-343474e52464'), (-116.1, 35.8, -116.0, 35.9), '2013-10', 0), (UUID('2229be79-feea-4cd0-92cc-343474e52464'), (-116.1, 35.8, -116.0, 35.9), '2013-11', 0), (UUID('2229be79-feea-4cd0-92cc-343474e52464'), (-116.1, 35.8, -116.0, 35.9), '2013-12', 0), (UUID('2229be79-feea-4cd0-92cc-343474e52464'), (-116.1, 35.8, -116.0, 35.9), '2014-01', 0), (UUID('2229be79-feea-4cd0-92cc-343474e52464'), (-116.1, 35.8, -116.0, 35.9), '2014-02', 0), (UUID('2229be79-feea-4cd0-92cc-343474e52464'), (-116.1, 35.8, -116.0, 35.9), '2014-03', 0), (UUID('2229be79-feea-4cd0-92cc-343474e52464'), (-116.1, 35.8, -116.0, 35.9), '2014-04', 0), (UUID('2229be79-feea-4cd0-92cc-343474e52464'), (-116.1, 35.8, -116.0, 35.9), '2014-05', 0), (UUID('2229be79-feea-4cd0-92cc-343474e52464'), (-116.1, 35.8, -116.0, 35.9), '2014-06', 0), (UUID('2229be79-feea-4cd0-92cc-343474e52464'), (-116.1, 35.8, -116.0, 35.9), '2014-07', 0), (UUID('2229be79-feea-4cd0-92cc-343474e52464'), (-116.1, 35.8, -116.0, 35.9), '2014-08', 0), (UUID('2229be79-feea-4cd0-92cc-343474e52464'), (-116.1, 35.8, -116.0, 35.9), '2014-09', 0), (UUID('2229be79-feea-4cd0-92cc-343474e52464'), (-116.1, 35.8, -116.0, 35.9), '2014-10', 0), (UUID('2229be79-feea-4cd0-92cc-343474e52464'), (-116.1, 35.8, -116.0, 35.9), '2014-11', 0), (UUID('2229be79-feea-4cd0-92cc-343474e52464'), (-116.1, 35.8, -116.0, 35.9), '2014-12', 0), (UUID('2229be79-feea-4cd0-92cc-343474e52464'), (-116.1, 35.8, -116.0, 35.9), '2015-01', 0), (UUID('2229be79-feea-4cd0-92cc-343474e52464'), (-116.1, 35.8, -116.0, 35.9), '2015-02', 0), (UUID('2229be79-feea-4cd0-92cc-343474e52464'), (-116.1, 35.8, -116.0, 35.9), '2015-03', 0), (UUID('2229be79-feea-4cd0-92cc-343474e52464'), (-116.1, 35.8, -116.0, 35.9), '2015-04', 0), (UUID('2229be79-feea-4cd0-92cc-343474e52464'), (-116.1, 35.8, -116.0, 35.9), '2015-05', 0), (UUID('2229be79-feea-4cd0-92cc-343474e52464'), (-116.1, 35.8, -116.0, 35.9), '2015-06', 0), (UUID('2229be79-feea-4cd0-92cc-343474e52464'), (-116.1, 35.8, -116.0, 35.9), '2015-07', 0), (UUID('2229be79-feea-4cd0-92cc-343474e52464'), (-116.1, 35.8, -116.0, 35.9), '2015-08', 0), (UUID('2229be79-feea-4cd0-92cc-343474e52464'), (-116.1, 35.8, -116.0, 35.9), '2015-09', 0), (UUID('2229be79-feea-4cd0-92cc-343474e52464'), (-116.1, 35.8, -116.0, 35.9), '2015-10', 0), (UUID('8556e7d7-7504-4525-a984-a54343fc12e6'), (-116.1, 35.9, -116.0, 36.0), '2000-01', 0), (UUID('8556e7d7-7504-4525-a984-a54343fc12e6'), (-116.1, 35.9, -116.0, 36.0), '2000-02', 0), (UUID('8556e7d7-7504-4525-a984-a54343fc12e6'), (-116.1, 35.9, -116.0, 36.0), '2000-03', 0), (UUID('8556e7d7-7504-4525-a984-a54343fc12e6'), (-116.1, 35.9, -116.0, 36.0), '2000-04', 0), (UUID('8556e7d7-7504-4525-a984-a54343fc12e6'), (-116.1, 35.9, -116.0, 36.0), '2000-05', 0), (UUID('8556e7d7-7504-4525-a984-a54343fc12e6'), (-116.1, 35.9, -116.0, 36.0), '2000-06', 0), (UUID('8556e7d7-7504-4525-a984-a54343fc12e6'), (-116.1, 35.9, -116.0, 36.0), '2000-07', 0), (UUID('8556e7d7-7504-4525-a984-a54343fc12e6'), (-116.1, 35.9, -116.0, 36.0), '2000-08', 0), (UUID('8556e7d7-7504-4525-a984-a54343fc12e6'), (-116.1, 35.9, -116.0, 36.0), '2000-09', 0), (UUID('8556e7d7-7504-4525-a984-a54343fc12e6'), (-116.1, 35.9, -116.0, 36.0), '2000-10', 0), (UUID('8556e7d7-7504-4525-a984-a54343fc12e6'), (-116.1, 35.9, -116.0, 36.0), '2000-11', 0), (UUID('8556e7d7-7504-4525-a984-a54343fc12e6'), (-116.1, 35.9, -116.0, 36.0), '2000-12', 0), (UUID('8556e7d7-7504-4525-a984-a54343fc12e6'), (-116.1, 35.9, -116.0, 36.0), '2001-01', 0), (UUID('8556e7d7-7504-4525-a984-a54343fc12e6'), (-116.1, 35.9, -116.0, 36.0), '2001-02', 0), (UUID('8556e7d7-7504-4525-a984-a54343fc12e6'), (-116.1, 35.9, -116.0, 36.0), '2001-03', 0), (UUID('8556e7d7-7504-4525-a984-a54343fc12e6'), (-116.1, 35.9, -116.0, 36.0), '2001-04', 0), (UUID('8556e7d7-7504-4525-a984-a54343fc12e6'), (-116.1, 35.9, -116.0, 36.0), '2001-05', 0), (UUID('8556e7d7-7504-4525-a984-a54343fc12e6'), (-116.1, 35.9, -116.0, 36.0), '2001-06', 1), (UUID('8556e7d7-7504-4525-a984-a54343fc12e6'), (-116.1, 35.9, -116.0, 36.0), '2001-09', 0), (UUID('8556e7d7-7504-4525-a984-a54343fc12e6'), (-116.1, 35.9, -116.0, 36.0), '2001-10', 0), (UUID('8556e7d7-7504-4525-a984-a54343fc12e6'), (-116.1, 35.9, -116.0, 36.0), '2001-11', 0), (UUID('8556e7d7-7504-4525-a984-a54343fc12e6'), (-116.1, 35.9, -116.0, 36.0), '2001-12', 0), (UUID('8556e7d7-7504-4525-a984-a54343fc12e6'), (-116.1, 35.9, -116.0, 36.0), '2002-01', 0), (UUID('8556e7d7-7504-4525-a984-a54343fc12e6'), (-116.1, 35.9, -116.0, 36.0), '2002-02', 0), (UUID('8556e7d7-7504-4525-a984-a54343fc12e6'), (-116.1, 35.9, -116.0, 36.0), '2002-03', 0), (UUID('8556e7d7-7504-4525-a984-a54343fc12e6'), (-116.1, 35.9, -116.0, 36.0), '2002-04', 0), (UUID('8556e7d7-7504-4525-a984-a54343fc12e6'), (-116.1, 35.9, -116.0, 36.0), '2002-05', 0), (UUID('8556e7d7-7504-4525-a984-a54343fc12e6'), (-116.1, 35.9, -116.0, 36.0), '2002-06', 0), (UUID('8556e7d7-7504-4525-a984-a54343fc12e6'), (-116.1, 35.9, -116.0, 36.0), '2002-07', 0), (UUID('8556e7d7-7504-4525-a984-a54343fc12e6'), (-116.1, 35.9, -116.0, 36.0), '2002-08', 0), (UUID('8556e7d7-7504-4525-a984-a54343fc12e6'), (-116.1, 35.9, -116.0, 36.0), '2002-09', 0), (UUID('8556e7d7-7504-4525-a984-a54343fc12e6'), (-116.1, 35.9, -116.0, 36.0), '2002-10', 0), (UUID('8556e7d7-7504-4525-a984-a54343fc12e6'), (-116.1, 35.9, -116.0, 36.0), '2002-11', 0), (UUID('8556e7d7-7504-4525-a984-a54343fc12e6'), (-116.1, 35.9, -116.0, 36.0), '2002-12', 0), (UUID('8556e7d7-7504-4525-a984-a54343fc12e6'), (-116.1, 35.9, -116.0, 36.0), '2003-01', 0), (UUID('8556e7d7-7504-4525-a984-a54343fc12e6'), (-116.1, 35.9, -116.0, 36.0), '2003-02', 0), (UUID('8556e7d7-7504-4525-a984-a54343fc12e6'), (-116.1, 35.9, -116.0, 36.0), '2003-03', 0), (UUID('8556e7d7-7504-4525-a984-a54343fc12e6'), (-116.1, 35.9, -116.0, 36.0), '2003-04', 0), (UUID('8556e7d7-7504-4525-a984-a54343fc12e6'), (-116.1, 35.9, -116.0, 36.0), '2003-05', 0), (UUID('8556e7d7-7504-4525-a984-a54343fc12e6'), (-116.1, 35.9, -116.0, 36.0), '2003-06', 0), (UUID('8556e7d7-7504-4525-a984-a54343fc12e6'), (-116.1, 35.9, -116.0, 36.0), '2003-07', 0), (UUID('8556e7d7-7504-4525-a984-a54343fc12e6'), (-116.1, 35.9, -116.0, 36.0), '2003-08', 0), (UUID('8556e7d7-7504-4525-a984-a54343fc12e6'), (-116.1, 35.9, -116.0, 36.0), '2003-09', 0), (UUID('8556e7d7-7504-4525-a984-a54343fc12e6'), (-116.1, 35.9, -116.0, 36.0), '2003-10', 0), (UUID('8556e7d7-7504-4525-a984-a54343fc12e6'), (-116.1, 35.9, -116.0, 36.0), '2003-11', 0), (UUID('8556e7d7-7504-4525-a984-a54343fc12e6'), (-116.1, 35.9, -116.0, 36.0), '2003-12', 0), (UUID('8556e7d7-7504-4525-a984-a54343fc12e6'), (-116.1, 35.9, -116.0, 36.0), '2004-01', 0), (UUID('8556e7d7-7504-4525-a984-a54343fc12e6'), (-116.1, 35.9, -116.0, 36.0), '2004-02', 0), (UUID('8556e7d7-7504-4525-a984-a54343fc12e6'), (-116.1, 35.9, -116.0, 36.0), '2004-03', 0), (UUID('8556e7d7-7504-4525-a984-a54343fc12e6'), (-116.1, 35.9, -116.0, 36.0), '2004-04', 0), (UUID('8556e7d7-7504-4525-a984-a54343fc12e6'), (-116.1, 35.9, -116.0, 36.0), '2004-05', 0), (UUID('8556e7d7-7504-4525-a984-a54343fc12e6'), (-116.1, 35.9, -116.0, 36.0), '2004-06', 0), (UUID('8556e7d7-7504-4525-a984-a54343fc12e6'), (-116.1, 35.9, -116.0, 36.0), '2004-07', 0), (UUID('8556e7d7-7504-4525-a984-a54343fc12e6'), (-116.1, 35.9, -116.0, 36.0), '2004-08', 0), (UUID('8556e7d7-7504-4525-a984-a54343fc12e6'), (-116.1, 35.9, -116.0, 36.0), '2004-09', 0), (UUID('8556e7d7-7504-4525-a984-a54343fc12e6'), (-116.1, 35.9, -116.0, 36.0), '2004-10', 0), (UUID('8556e7d7-7504-4525-a984-a54343fc12e6'), (-116.1, 35.9, -116.0, 36.0), '2004-11', 0), (UUID('8556e7d7-7504-4525-a984-a54343fc12e6'), (-116.1, 35.9, -116.0, 36.0), '2004-12', 0), (UUID('8556e7d7-7504-4525-a984-a54343fc12e6'), (-116.1, 35.9, -116.0, 36.0), '2005-01', 0), (UUID('8556e7d7-7504-4525-a984-a54343fc12e6'), (-116.1, 35.9, -116.0, 36.0), '2005-02', 0), (UUID('8556e7d7-7504-4525-a984-a54343fc12e6'), (-116.1, 35.9, -116.0, 36.0), '2005-03', 0), (UUID('8556e7d7-7504-4525-a984-a54343fc12e6'), (-116.1, 35.9, -116.0, 36.0), '2005-04', 0), (UUID('8556e7d7-7504-4525-a984-a54343fc12e6'), (-116.1, 35.9, -116.0, 36.0), '2005-05', 0), (UUID('8556e7d7-7504-4525-a984-a54343fc12e6'), (-116.1, 35.9, -116.0, 36.0), '2005-06', 0), (UUID('8556e7d7-7504-4525-a984-a54343fc12e6'), (-116.1, 35.9, -116.0, 36.0), '2005-07', 0), (UUID('8556e7d7-7504-4525-a984-a54343fc12e6'), (-116.1, 35.9, -116.0, 36.0), '2005-08', 0), (UUID('8556e7d7-7504-4525-a984-a54343fc12e6'), (-116.1, 35.9, -116.0, 36.0), '2005-09', 0), (UUID('8556e7d7-7504-4525-a984-a54343fc12e6'), (-116.1, 35.9, -116.0, 36.0), '2005-10', 0), (UUID('8556e7d7-7504-4525-a984-a54343fc12e6'), (-116.1, 35.9, -116.0, 36.0), '2005-11', 0), (UUID('8556e7d7-7504-4525-a984-a54343fc12e6'), (-116.1, 35.9, -116.0, 36.0), '2005-12', 0), (UUID('8556e7d7-7504-4525-a984-a54343fc12e6'), (-116.1, 35.9, -116.0, 36.0), '2006-01', 0), (UUID('8556e7d7-7504-4525-a984-a54343fc12e6'), (-116.1, 35.9, -116.0, 36.0), '2006-02', 0), (UUID('8556e7d7-7504-4525-a984-a54343fc12e6'), (-116.1, 35.9, -116.0, 36.0), '2006-03', 0), (UUID('8556e7d7-7504-4525-a984-a54343fc12e6'), (-116.1, 35.9, -116.0, 36.0), '2006-04', 0), (UUID('8556e7d7-7504-4525-a984-a54343fc12e6'), (-116.1, 35.9, -116.0, 36.0), '2006-05', 0), (UUID('8556e7d7-7504-4525-a984-a54343fc12e6'), (-116.1, 35.9, -116.0, 36.0), '2006-06', 0), (UUID('8556e7d7-7504-4525-a984-a54343fc12e6'), (-116.1, 35.9, -116.0, 36.0), '2006-07', 0), (UUID('8556e7d7-7504-4525-a984-a54343fc12e6'), (-116.1, 35.9, -116.0, 36.0), '2006-08', 0), (UUID('8556e7d7-7504-4525-a984-a54343fc12e6'), (-116.1, 35.9, -116.0, 36.0), '2006-09', 0), (UUID('8556e7d7-7504-4525-a984-a54343fc12e6'), (-116.1, 35.9, -116.0, 36.0), '2006-10', 0), (UUID('8556e7d7-7504-4525-a984-a54343fc12e6'), (-116.1, 35.9, -116.0, 36.0), '2006-11', 0), (UUID('8556e7d7-7504-4525-a984-a54343fc12e6'), (-116.1, 35.9, -116.0, 36.0), '2006-12', 0), (UUID('8556e7d7-7504-4525-a984-a54343fc12e6'), (-116.1, 35.9, -116.0, 36.0), '2007-01', 0), (UUID('8556e7d7-7504-4525-a984-a54343fc12e6'), (-116.1, 35.9, -116.0, 36.0), '2007-02', 0), (UUID('8556e7d7-7504-4525-a984-a54343fc12e6'), (-116.1, 35.9, -116.0, 36.0), '2007-03', 0), (UUID('8556e7d7-7504-4525-a984-a54343fc12e6'), (-116.1, 35.9, -116.0, 36.0), '2007-04', 0), (UUID('8556e7d7-7504-4525-a984-a54343fc12e6'), (-116.1, 35.9, -116.0, 36.0), '2007-05', 0), (UUID('8556e7d7-7504-4525-a984-a54343fc12e6'), (-116.1, 35.9, -116.0, 36.0), '2007-06', 0), (UUID('8556e7d7-7504-4525-a984-a54343fc12e6'), (-116.1, 35.9, -116.0, 36.0), '2007-07', 0), (UUID('8556e7d7-7504-4525-a984-a54343fc12e6'), (-116.1, 35.9, -116.0, 36.0), '2007-08', 0), (UUID('8556e7d7-7504-4525-a984-a54343fc12e6'), (-116.1, 35.9, -116.0, 36.0), '2007-09', 0), (UUID('8556e7d7-7504-4525-a984-a54343fc12e6'), (-116.1, 35.9, -116.0, 36.0), '2007-10', 0), (UUID('8556e7d7-7504-4525-a984-a54343fc12e6'), (-116.1, 35.9, -116.0, 36.0), '2007-11', 0), (UUID('8556e7d7-7504-4525-a984-a54343fc12e6'), (-116.1, 35.9, -116.0, 36.0), '2007-12', 0), (UUID('8556e7d7-7504-4525-a984-a54343fc12e6'), (-116.1, 35.9, -116.0, 36.0), '2008-01', 0), (UUID('8556e7d7-7504-4525-a984-a54343fc12e6'), (-116.1, 35.9, -116.0, 36.0), '2008-02', 0), (UUID('8556e7d7-7504-4525-a984-a54343fc12e6'), (-116.1, 35.9, -116.0, 36.0), '2008-03', 0), (UUID('8556e7d7-7504-4525-a984-a54343fc12e6'), (-116.1, 35.9, -116.0, 36.0), '2008-04', 0), (UUID('8556e7d7-7504-4525-a984-a54343fc12e6'), (-116.1, 35.9, -116.0, 36.0), '2008-05', 0), (UUID('8556e7d7-7504-4525-a984-a54343fc12e6'), (-116.1, 35.9, -116.0, 36.0), '2008-06', 0), (UUID('8556e7d7-7504-4525-a984-a54343fc12e6'), (-116.1, 35.9, -116.0, 36.0), '2008-07', 0), (UUID('8556e7d7-7504-4525-a984-a54343fc12e6'), (-116.1, 35.9, -116.0, 36.0), '2008-08', 0), (UUID('8556e7d7-7504-4525-a984-a54343fc12e6'), (-116.1, 35.9, -116.0, 36.0), '2008-09', 0), (UUID('8556e7d7-7504-4525-a984-a54343fc12e6'), (-116.1, 35.9, -116.0, 36.0), '2008-10', 0), (UUID('8556e7d7-7504-4525-a984-a54343fc12e6'), (-116.1, 35.9, -116.0, 36.0), '2008-11', 0), (UUID('8556e7d7-7504-4525-a984-a54343fc12e6'), (-116.1, 35.9, -116.0, 36.0), '2008-12', 0), (UUID('8556e7d7-7504-4525-a984-a54343fc12e6'), (-116.1, 35.9, -116.0, 36.0), '2009-01', 0), (UUID('8556e7d7-7504-4525-a984-a54343fc12e6'), (-116.1, 35.9, -116.0, 36.0), '2009-02', 0), (UUID('8556e7d7-7504-4525-a984-a54343fc12e6'), (-116.1, 35.9, -116.0, 36.0), '2009-03', 0), (UUID('8556e7d7-7504-4525-a984-a54343fc12e6'), (-116.1, 35.9, -116.0, 36.0), '2009-04', 0), (UUID('8556e7d7-7504-4525-a984-a54343fc12e6'), (-116.1, 35.9, -116.0, 36.0), '2009-05', 0), (UUID('8556e7d7-7504-4525-a984-a54343fc12e6'), (-116.1, 35.9, -116.0, 36.0), '2009-06', 0), (UUID('8556e7d7-7504-4525-a984-a54343fc12e6'), (-116.1, 35.9, -116.0, 36.0), '2009-07', 0), (UUID('8556e7d7-7504-4525-a984-a54343fc12e6'), (-116.1, 35.9, -116.0, 36.0), '2009-08', 0), (UUID('8556e7d7-7504-4525-a984-a54343fc12e6'), (-116.1, 35.9, -116.0, 36.0), '2009-09', 0), (UUID('8556e7d7-7504-4525-a984-a54343fc12e6'), (-116.1, 35.9, -116.0, 36.0), '2009-10', 0), (UUID('8556e7d7-7504-4525-a984-a54343fc12e6'), (-116.1, 35.9, -116.0, 36.0), '2009-11', 0), (UUID('8556e7d7-7504-4525-a984-a54343fc12e6'), (-116.1, 35.9, -116.0, 36.0), '2009-12', 0), (UUID('8556e7d7-7504-4525-a984-a54343fc12e6'), (-116.1, 35.9, -116.0, 36.0), '2010-01', 0), (UUID('8556e7d7-7504-4525-a984-a54343fc12e6'), (-116.1, 35.9, -116.0, 36.0), '2010-02', 0), (UUID('8556e7d7-7504-4525-a984-a54343fc12e6'), (-116.1, 35.9, -116.0, 36.0), '2010-03', 0), (UUID('8556e7d7-7504-4525-a984-a54343fc12e6'), (-116.1, 35.9, -116.0, 36.0), '2010-04', 0), (UUID('8556e7d7-7504-4525-a984-a54343fc12e6'), (-116.1, 35.9, -116.0, 36.0), '2010-05', 0), (UUID('8556e7d7-7504-4525-a984-a54343fc12e6'), (-116.1, 35.9, -116.0, 36.0), '2010-06', 0), (UUID('8556e7d7-7504-4525-a984-a54343fc12e6'), (-116.1, 35.9, -116.0, 36.0), '2010-07', 0), (UUID('8556e7d7-7504-4525-a984-a54343fc12e6'), (-116.1, 35.9, -116.0, 36.0), '2010-08', 0), (UUID('8556e7d7-7504-4525-a984-a54343fc12e6'), (-116.1, 35.9, -116.0, 36.0), '2010-09', 0), (UUID('8556e7d7-7504-4525-a984-a54343fc12e6'), (-116.1, 35.9, -116.0, 36.0), '2010-10', 0), (UUID('8556e7d7-7504-4525-a984-a54343fc12e6'), (-116.1, 35.9, -116.0, 36.0), '2010-11', 0), (UUID('8556e7d7-7504-4525-a984-a54343fc12e6'), (-116.1, 35.9, -116.0, 36.0), '2010-12', 0), (UUID('8556e7d7-7504-4525-a984-a54343fc12e6'), (-116.1, 35.9, -116.0, 36.0), '2011-01', 0), (UUID('8556e7d7-7504-4525-a984-a54343fc12e6'), (-116.1, 35.9, -116.0, 36.0), '2011-02', 0), (UUID('8556e7d7-7504-4525-a984-a54343fc12e6'), (-116.1, 35.9, -116.0, 36.0), '2011-03', 0), (UUID('8556e7d7-7504-4525-a984-a54343fc12e6'), (-116.1, 35.9, -116.0, 36.0), '2011-04', 0), (UUID('8556e7d7-7504-4525-a984-a54343fc12e6'), (-116.1, 35.9, -116.0, 36.0), '2011-05', 0), (UUID('8556e7d7-7504-4525-a984-a54343fc12e6'), (-116.1, 35.9, -116.0, 36.0), '2011-06', 0), (UUID('8556e7d7-7504-4525-a984-a54343fc12e6'), (-116.1, 35.9, -116.0, 36.0), '2011-07', 0), (UUID('8556e7d7-7504-4525-a984-a54343fc12e6'), (-116.1, 35.9, -116.0, 36.0), '2011-08', 0), (UUID('8556e7d7-7504-4525-a984-a54343fc12e6'), (-116.1, 35.9, -116.0, 36.0), '2011-09', 0), (UUID('8556e7d7-7504-4525-a984-a54343fc12e6'), (-116.1, 35.9, -116.0, 36.0), '2011-10', 0), (UUID('8556e7d7-7504-4525-a984-a54343fc12e6'), (-116.1, 35.9, -116.0, 36.0), '2011-11', 0), (UUID('8556e7d7-7504-4525-a984-a54343fc12e6'), (-116.1, 35.9, -116.0, 36.0), '2011-12', 0), (UUID('8556e7d7-7504-4525-a984-a54343fc12e6'), (-116.1, 35.9, -116.0, 36.0), '2012-01', 0), (UUID('8556e7d7-7504-4525-a984-a54343fc12e6'), (-116.1, 35.9, -116.0, 36.0), '2012-02', 0), (UUID('8556e7d7-7504-4525-a984-a54343fc12e6'), (-116.1, 35.9, -116.0, 36.0), '2012-03', 0), (UUID('8556e7d7-7504-4525-a984-a54343fc12e6'), (-116.1, 35.9, -116.0, 36.0), '2012-04', 0), (UUID('8556e7d7-7504-4525-a984-a54343fc12e6'), (-116.1, 35.9, -116.0, 36.0), '2012-05', 0), (UUID('8556e7d7-7504-4525-a984-a54343fc12e6'), (-116.1, 35.9, -116.0, 36.0), '2012-06', 0), (UUID('8556e7d7-7504-4525-a984-a54343fc12e6'), (-116.1, 35.9, -116.0, 36.0), '2012-07', 0), (UUID('8556e7d7-7504-4525-a984-a54343fc12e6'), (-116.1, 35.9, -116.0, 36.0), '2012-08', 0), (UUID('8556e7d7-7504-4525-a984-a54343fc12e6'), (-116.1, 35.9, -116.0, 36.0), '2012-09', 0), (UUID('8556e7d7-7504-4525-a984-a54343fc12e6'), (-116.1, 35.9, -116.0, 36.0), '2012-10', 0), (UUID('8556e7d7-7504-4525-a984-a54343fc12e6'), (-116.1, 35.9, -116.0, 36.0), '2012-11', 0), (UUID('8556e7d7-7504-4525-a984-a54343fc12e6'), (-116.1, 35.9, -116.0, 36.0), '2012-12', 0), (UUID('8556e7d7-7504-4525-a984-a54343fc12e6'), (-116.1, 35.9, -116.0, 36.0), '2013-01', 0), (UUID('8556e7d7-7504-4525-a984-a54343fc12e6'), (-116.1, 35.9, -116.0, 36.0), '2013-02', 0), (UUID('8556e7d7-7504-4525-a984-a54343fc12e6'), (-116.1, 35.9, -116.0, 36.0), '2013-03', 0), (UUID('8556e7d7-7504-4525-a984-a54343fc12e6'), (-116.1, 35.9, -116.0, 36.0), '2013-04', 0), (UUID('8556e7d7-7504-4525-a984-a54343fc12e6'), (-116.1, 35.9, -116.0, 36.0), '2013-05', 0), (UUID('8556e7d7-7504-4525-a984-a54343fc12e6'), (-116.1, 35.9, -116.0, 36.0), '2013-06', 0), (UUID('8556e7d7-7504-4525-a984-a54343fc12e6'), (-116.1, 35.9, -116.0, 36.0), '2013-07', 0), (UUID('8556e7d7-7504-4525-a984-a54343fc12e6'), (-116.1, 35.9, -116.0, 36.0), '2013-08', 0), (UUID('8556e7d7-7504-4525-a984-a54343fc12e6'), (-116.1, 35.9, -116.0, 36.0), '2013-09', 0), (UUID('8556e7d7-7504-4525-a984-a54343fc12e6'), (-116.1, 35.9, -116.0, 36.0), '2013-10', 0), (UUID('8556e7d7-7504-4525-a984-a54343fc12e6'), (-116.1, 35.9, -116.0, 36.0), '2013-11', 0), (UUID('8556e7d7-7504-4525-a984-a54343fc12e6'), (-116.1, 35.9, -116.0, 36.0), '2013-12', 0), (UUID('8556e7d7-7504-4525-a984-a54343fc12e6'), (-116.1, 35.9, -116.0, 36.0), '2014-01', 0), (UUID('8556e7d7-7504-4525-a984-a54343fc12e6'), (-116.1, 35.9, -116.0, 36.0), '2014-02', 0), (UUID('8556e7d7-7504-4525-a984-a54343fc12e6'), (-116.1, 35.9, -116.0, 36.0), '2014-03', 0), (UUID('8556e7d7-7504-4525-a984-a54343fc12e6'), (-116.1, 35.9, -116.0, 36.0), '2014-04', 0), (UUID('8556e7d7-7504-4525-a984-a54343fc12e6'), (-116.1, 35.9, -116.0, 36.0), '2014-05', 0), (UUID('8556e7d7-7504-4525-a984-a54343fc12e6'), (-116.1, 35.9, -116.0, 36.0), '2014-06', 0), (UUID('8556e7d7-7504-4525-a984-a54343fc12e6'), (-116.1, 35.9, -116.0, 36.0), '2014-07', 0), (UUID('8556e7d7-7504-4525-a984-a54343fc12e6'), (-116.1, 35.9, -116.0, 36.0), '2014-08', 0), (UUID('8556e7d7-7504-4525-a984-a54343fc12e6'), (-116.1, 35.9, -116.0, 36.0), '2014-09', 0), (UUID('8556e7d7-7504-4525-a984-a54343fc12e6'), (-116.1, 35.9, -116.0, 36.0), '2014-10', 0), (UUID('8556e7d7-7504-4525-a984-a54343fc12e6'), (-116.1, 35.9, -116.0, 36.0), '2014-11', 0), (UUID('8556e7d7-7504-4525-a984-a54343fc12e6'), (-116.1, 35.9, -116.0, 36.0), '2014-12', 0), (UUID('8556e7d7-7504-4525-a984-a54343fc12e6'), (-116.1, 35.9, -116.0, 36.0), '2015-01', 0), (UUID('8556e7d7-7504-4525-a984-a54343fc12e6'), (-116.1, 35.9, -116.0, 36.0), '2015-02', 0), (UUID('8556e7d7-7504-4525-a984-a54343fc12e6'), (-116.1, 35.9, -116.0, 36.0), '2015-03', 0), (UUID('8556e7d7-7504-4525-a984-a54343fc12e6'), (-116.1, 35.9, -116.0, 36.0), '2015-04', 0), (UUID('8556e7d7-7504-4525-a984-a54343fc12e6'), (-116.1, 35.9, -116.0, 36.0), '2015-05', 0), (UUID('8556e7d7-7504-4525-a984-a54343fc12e6'), (-116.1, 35.9, -116.0, 36.0), '2015-06', 0), (UUID('8556e7d7-7504-4525-a984-a54343fc12e6'), (-116.1, 35.9, -116.0, 36.0), '2015-07', 0), (UUID('8556e7d7-7504-4525-a984-a54343fc12e6'), (-116.1, 35.9, -116.0, 36.0), '2015-08', 0), (UUID('8556e7d7-7504-4525-a984-a54343fc12e6'), (-116.1, 35.9, -116.0, 36.0), '2015-09', 0), (UUID('8556e7d7-7504-4525-a984-a54343fc12e6'), (-116.1, 35.9, -116.0, 36.0), '2015-10', 0)]\n74615\n"
    }
   ],
   "source": [
    "print(num_zeros)\n",
    "print(num_subsequent_1s)\n",
    "print(total_iters)\n",
    "print(output)\n",
    "print(len(output))"
   ]
  },
  {
   "cell_type": "code",
   "execution_count": 99,
   "metadata": {
    "tags": [
     "outputPrepend"
    ]
   },
   "outputs": [],
   "source": [
    "# save the corresponding data structure to disk\n",
    "import pickle\n",
    "with open(\"../us_wildfire_dataset/labelled_temporal_polygons.pkl\", \"wb\") as f:\n",
    "    pickle.dump(output, f, protocol=pickle.HIGHEST_PROTOCOL)"
   ]
  },
  {
   "cell_type": "code",
   "execution_count": 100,
   "metadata": {
    "tags": [
     "outputPrepend"
    ]
   },
   "outputs": [],
   "source": [
    "# load output back from the pickle\n",
    "with open(\"../us_wildfire_dataset/labelled_temporal_polygons.pkl\", \"rb\") as f:\n",
    "    unpickler = pickle.Unpickler(f)\n",
    "    output = unpickler.load()"
   ]
  },
  {
   "cell_type": "code",
   "execution_count": 101,
   "metadata": {
    "tags": [
     "outputPrepend",
     "outputPrepend",
     "outputPrepend",
     "outputPrepend",
     "outputPrepend"
    ]
   },
   "outputs": [],
   "source": [
    "import ee\n",
    "ee.Initialize()"
   ]
  },
  {
   "cell_type": "code",
   "execution_count": 113,
   "metadata": {
    "tags": [
     "outputPrepend",
     "outputPrepend",
     "outputPrepend",
     "outputPrepend",
     "outputPrepend",
     "outputPrepend",
     "outputPrepend"
    ]
   },
   "outputs": [
    {
     "output_type": "error",
     "ename": "KeyboardInterrupt",
     "evalue": "",
     "traceback": [
      "\u001b[0;31m---------------------------------------------------------------------------\u001b[0m",
      "\u001b[0;31mKeyboardInterrupt\u001b[0m                         Traceback (most recent call last)",
      "\u001b[0;32m<ipython-input-113-0a9ca5b8395a>\u001b[0m in \u001b[0;36m<module>\u001b[0;34m\u001b[0m\n\u001b[1;32m     23\u001b[0m     )\n\u001b[1;32m     24\u001b[0m \u001b[0;34m\u001b[0m\u001b[0m\n\u001b[0;32m---> 25\u001b[0;31m     \u001b[0mtask\u001b[0m\u001b[0;34m.\u001b[0m\u001b[0mstart\u001b[0m\u001b[0;34m(\u001b[0m\u001b[0;34m)\u001b[0m\u001b[0;34m\u001b[0m\u001b[0;34m\u001b[0m\u001b[0m\n\u001b[0m",
      "\u001b[0;32m~/opt/miniconda3/envs/cs231n/lib/python3.6/site-packages/ee/batch.py\u001b[0m in \u001b[0;36mstart\u001b[0;34m(self)\u001b[0m\n\u001b[1;32m     81\u001b[0m \u001b[0;34m\u001b[0m\u001b[0m\n\u001b[1;32m     82\u001b[0m     \u001b[0;32mif\u001b[0m \u001b[0mself\u001b[0m\u001b[0;34m.\u001b[0m\u001b[0mtask_type\u001b[0m \u001b[0;34m==\u001b[0m \u001b[0mTask\u001b[0m\u001b[0;34m.\u001b[0m\u001b[0mType\u001b[0m\u001b[0;34m.\u001b[0m\u001b[0mEXPORT_IMAGE\u001b[0m\u001b[0;34m:\u001b[0m\u001b[0;34m\u001b[0m\u001b[0;34m\u001b[0m\u001b[0m\n\u001b[0;32m---> 83\u001b[0;31m       \u001b[0mresult\u001b[0m \u001b[0;34m=\u001b[0m \u001b[0mdata\u001b[0m\u001b[0;34m.\u001b[0m\u001b[0mexportImage\u001b[0m\u001b[0;34m(\u001b[0m\u001b[0mself\u001b[0m\u001b[0;34m.\u001b[0m\u001b[0m_request_id\u001b[0m\u001b[0;34m,\u001b[0m \u001b[0mself\u001b[0m\u001b[0;34m.\u001b[0m\u001b[0mconfig\u001b[0m\u001b[0;34m)\u001b[0m\u001b[0;34m\u001b[0m\u001b[0;34m\u001b[0m\u001b[0m\n\u001b[0m\u001b[1;32m     84\u001b[0m     \u001b[0;32melif\u001b[0m \u001b[0mself\u001b[0m\u001b[0;34m.\u001b[0m\u001b[0mtask_type\u001b[0m \u001b[0;34m==\u001b[0m \u001b[0mTask\u001b[0m\u001b[0;34m.\u001b[0m\u001b[0mType\u001b[0m\u001b[0;34m.\u001b[0m\u001b[0mEXPORT_MAP\u001b[0m\u001b[0;34m:\u001b[0m\u001b[0;34m\u001b[0m\u001b[0;34m\u001b[0m\u001b[0m\n\u001b[1;32m     85\u001b[0m       \u001b[0mresult\u001b[0m \u001b[0;34m=\u001b[0m \u001b[0mdata\u001b[0m\u001b[0;34m.\u001b[0m\u001b[0mexportMap\u001b[0m\u001b[0;34m(\u001b[0m\u001b[0mself\u001b[0m\u001b[0;34m.\u001b[0m\u001b[0m_request_id\u001b[0m\u001b[0;34m,\u001b[0m \u001b[0mself\u001b[0m\u001b[0;34m.\u001b[0m\u001b[0mconfig\u001b[0m\u001b[0;34m)\u001b[0m\u001b[0;34m\u001b[0m\u001b[0;34m\u001b[0m\u001b[0m\n",
      "\u001b[0;32m~/opt/miniconda3/envs/cs231n/lib/python3.6/site-packages/ee/data.py\u001b[0m in \u001b[0;36mexportImage\u001b[0;34m(request_id, params)\u001b[0m\n\u001b[1;32m   1336\u001b[0m   \u001b[0;32mif\u001b[0m \u001b[0m_use_cloud_api\u001b[0m\u001b[0;34m:\u001b[0m\u001b[0;34m\u001b[0m\u001b[0;34m\u001b[0m\u001b[0m\n\u001b[1;32m   1337\u001b[0m     return _prepare_and_run_export(\n\u001b[0;32m-> 1338\u001b[0;31m         request_id, params, _cloud_api_resource.projects().image().export)\n\u001b[0m\u001b[1;32m   1339\u001b[0m   \u001b[0mparams\u001b[0m\u001b[0;34m[\u001b[0m\u001b[0;34m'type'\u001b[0m\u001b[0;34m]\u001b[0m \u001b[0;34m=\u001b[0m \u001b[0;34m'EXPORT_IMAGE'\u001b[0m\u001b[0;34m\u001b[0m\u001b[0;34m\u001b[0m\u001b[0m\n\u001b[1;32m   1340\u001b[0m   \u001b[0;32mreturn\u001b[0m \u001b[0mstartProcessing\u001b[0m\u001b[0;34m(\u001b[0m\u001b[0mrequest_id\u001b[0m\u001b[0;34m,\u001b[0m \u001b[0mparams\u001b[0m\u001b[0;34m)\u001b[0m\u001b[0;34m\u001b[0m\u001b[0;34m\u001b[0m\u001b[0m\n",
      "\u001b[0;32m~/opt/miniconda3/envs/cs231n/lib/python3.6/site-packages/ee/data.py\u001b[0m in \u001b[0;36m_prepare_and_run_export\u001b[0;34m(request_id, params, export_endpoint)\u001b[0m\n\u001b[1;32m   1461\u001b[0m   return _execute_cloud_call(\n\u001b[1;32m   1462\u001b[0m       \u001b[0mexport_endpoint\u001b[0m\u001b[0;34m(\u001b[0m\u001b[0mproject\u001b[0m\u001b[0;34m=\u001b[0m\u001b[0m_get_projects_path\u001b[0m\u001b[0;34m(\u001b[0m\u001b[0;34m)\u001b[0m\u001b[0;34m,\u001b[0m \u001b[0mbody\u001b[0m\u001b[0;34m=\u001b[0m\u001b[0mparams\u001b[0m\u001b[0;34m)\u001b[0m\u001b[0;34m,\u001b[0m\u001b[0;34m\u001b[0m\u001b[0;34m\u001b[0m\u001b[0m\n\u001b[0;32m-> 1463\u001b[0;31m       num_retries=num_retries)\n\u001b[0m\u001b[1;32m   1464\u001b[0m \u001b[0;34m\u001b[0m\u001b[0m\n\u001b[1;32m   1465\u001b[0m \u001b[0;34m\u001b[0m\u001b[0m\n",
      "\u001b[0;32m~/opt/miniconda3/envs/cs231n/lib/python3.6/site-packages/ee/data.py\u001b[0m in \u001b[0;36m_execute_cloud_call\u001b[0;34m(call, num_retries)\u001b[0m\n\u001b[1;32m    336\u001b[0m   \"\"\"\n\u001b[1;32m    337\u001b[0m   \u001b[0;32mtry\u001b[0m\u001b[0;34m:\u001b[0m\u001b[0;34m\u001b[0m\u001b[0;34m\u001b[0m\u001b[0m\n\u001b[0;32m--> 338\u001b[0;31m     \u001b[0;32mreturn\u001b[0m \u001b[0mcall\u001b[0m\u001b[0;34m.\u001b[0m\u001b[0mexecute\u001b[0m\u001b[0;34m(\u001b[0m\u001b[0mnum_retries\u001b[0m\u001b[0;34m=\u001b[0m\u001b[0mnum_retries\u001b[0m\u001b[0;34m)\u001b[0m\u001b[0;34m\u001b[0m\u001b[0;34m\u001b[0m\u001b[0m\n\u001b[0m\u001b[1;32m    339\u001b[0m   \u001b[0;32mexcept\u001b[0m \u001b[0mgoogleapiclient\u001b[0m\u001b[0;34m.\u001b[0m\u001b[0merrors\u001b[0m\u001b[0;34m.\u001b[0m\u001b[0mHttpError\u001b[0m \u001b[0;32mas\u001b[0m \u001b[0me\u001b[0m\u001b[0;34m:\u001b[0m\u001b[0;34m\u001b[0m\u001b[0;34m\u001b[0m\u001b[0m\n\u001b[1;32m    340\u001b[0m     \u001b[0;32mraise\u001b[0m \u001b[0m_translate_cloud_exception\u001b[0m\u001b[0;34m(\u001b[0m\u001b[0me\u001b[0m\u001b[0;34m)\u001b[0m\u001b[0;34m\u001b[0m\u001b[0;34m\u001b[0m\u001b[0m\n",
      "\u001b[0;32m~/opt/miniconda3/envs/cs231n/lib/python3.6/site-packages/googleapiclient/_helpers.py\u001b[0m in \u001b[0;36mpositional_wrapper\u001b[0;34m(*args, **kwargs)\u001b[0m\n\u001b[1;32m    132\u001b[0m                 \u001b[0;32melif\u001b[0m \u001b[0mpositional_parameters_enforcement\u001b[0m \u001b[0;34m==\u001b[0m \u001b[0mPOSITIONAL_WARNING\u001b[0m\u001b[0;34m:\u001b[0m\u001b[0;34m\u001b[0m\u001b[0;34m\u001b[0m\u001b[0m\n\u001b[1;32m    133\u001b[0m                     \u001b[0mlogger\u001b[0m\u001b[0;34m.\u001b[0m\u001b[0mwarning\u001b[0m\u001b[0;34m(\u001b[0m\u001b[0mmessage\u001b[0m\u001b[0;34m)\u001b[0m\u001b[0;34m\u001b[0m\u001b[0;34m\u001b[0m\u001b[0m\n\u001b[0;32m--> 134\u001b[0;31m             \u001b[0;32mreturn\u001b[0m \u001b[0mwrapped\u001b[0m\u001b[0;34m(\u001b[0m\u001b[0;34m*\u001b[0m\u001b[0margs\u001b[0m\u001b[0;34m,\u001b[0m \u001b[0;34m**\u001b[0m\u001b[0mkwargs\u001b[0m\u001b[0;34m)\u001b[0m\u001b[0;34m\u001b[0m\u001b[0;34m\u001b[0m\u001b[0m\n\u001b[0m\u001b[1;32m    135\u001b[0m \u001b[0;34m\u001b[0m\u001b[0m\n\u001b[1;32m    136\u001b[0m         \u001b[0;32mreturn\u001b[0m \u001b[0mpositional_wrapper\u001b[0m\u001b[0;34m\u001b[0m\u001b[0;34m\u001b[0m\u001b[0m\n",
      "\u001b[0;32m~/opt/miniconda3/envs/cs231n/lib/python3.6/site-packages/googleapiclient/http.py\u001b[0m in \u001b[0;36mexecute\u001b[0;34m(self, http, num_retries)\u001b[0m\n\u001b[1;32m    899\u001b[0m             \u001b[0mmethod\u001b[0m\u001b[0;34m=\u001b[0m\u001b[0mstr\u001b[0m\u001b[0;34m(\u001b[0m\u001b[0mself\u001b[0m\u001b[0;34m.\u001b[0m\u001b[0mmethod\u001b[0m\u001b[0;34m)\u001b[0m\u001b[0;34m,\u001b[0m\u001b[0;34m\u001b[0m\u001b[0;34m\u001b[0m\u001b[0m\n\u001b[1;32m    900\u001b[0m             \u001b[0mbody\u001b[0m\u001b[0;34m=\u001b[0m\u001b[0mself\u001b[0m\u001b[0;34m.\u001b[0m\u001b[0mbody\u001b[0m\u001b[0;34m,\u001b[0m\u001b[0;34m\u001b[0m\u001b[0;34m\u001b[0m\u001b[0m\n\u001b[0;32m--> 901\u001b[0;31m             \u001b[0mheaders\u001b[0m\u001b[0;34m=\u001b[0m\u001b[0mself\u001b[0m\u001b[0;34m.\u001b[0m\u001b[0mheaders\u001b[0m\u001b[0;34m,\u001b[0m\u001b[0;34m\u001b[0m\u001b[0;34m\u001b[0m\u001b[0m\n\u001b[0m\u001b[1;32m    902\u001b[0m         )\n\u001b[1;32m    903\u001b[0m \u001b[0;34m\u001b[0m\u001b[0m\n",
      "\u001b[0;32m~/opt/miniconda3/envs/cs231n/lib/python3.6/site-packages/googleapiclient/http.py\u001b[0m in \u001b[0;36m_retry_request\u001b[0;34m(http, num_retries, req_type, sleep, rand, uri, method, *args, **kwargs)\u001b[0m\n\u001b[1;32m    175\u001b[0m         \u001b[0;32mtry\u001b[0m\u001b[0;34m:\u001b[0m\u001b[0;34m\u001b[0m\u001b[0;34m\u001b[0m\u001b[0m\n\u001b[1;32m    176\u001b[0m             \u001b[0mexception\u001b[0m \u001b[0;34m=\u001b[0m \u001b[0;32mNone\u001b[0m\u001b[0;34m\u001b[0m\u001b[0;34m\u001b[0m\u001b[0m\n\u001b[0;32m--> 177\u001b[0;31m             \u001b[0mresp\u001b[0m\u001b[0;34m,\u001b[0m \u001b[0mcontent\u001b[0m \u001b[0;34m=\u001b[0m \u001b[0mhttp\u001b[0m\u001b[0;34m.\u001b[0m\u001b[0mrequest\u001b[0m\u001b[0;34m(\u001b[0m\u001b[0muri\u001b[0m\u001b[0;34m,\u001b[0m \u001b[0mmethod\u001b[0m\u001b[0;34m,\u001b[0m \u001b[0;34m*\u001b[0m\u001b[0margs\u001b[0m\u001b[0;34m,\u001b[0m \u001b[0;34m**\u001b[0m\u001b[0mkwargs\u001b[0m\u001b[0;34m)\u001b[0m\u001b[0;34m\u001b[0m\u001b[0;34m\u001b[0m\u001b[0m\n\u001b[0m\u001b[1;32m    178\u001b[0m         \u001b[0;31m# Retry on SSL errors and socket timeout errors.\u001b[0m\u001b[0;34m\u001b[0m\u001b[0;34m\u001b[0m\u001b[0;34m\u001b[0m\u001b[0m\n\u001b[1;32m    179\u001b[0m         \u001b[0;32mexcept\u001b[0m \u001b[0m_ssl_SSLError\u001b[0m \u001b[0;32mas\u001b[0m \u001b[0mssl_error\u001b[0m\u001b[0;34m:\u001b[0m\u001b[0;34m\u001b[0m\u001b[0;34m\u001b[0m\u001b[0m\n",
      "\u001b[0;32m~/opt/miniconda3/envs/cs231n/lib/python3.6/site-packages/google_auth_httplib2.py\u001b[0m in \u001b[0;36mrequest\u001b[0;34m(self, uri, method, body, headers, **kwargs)\u001b[0m\n\u001b[1;32m    196\u001b[0m         \u001b[0;31m# Make the request.\u001b[0m\u001b[0;34m\u001b[0m\u001b[0;34m\u001b[0m\u001b[0;34m\u001b[0m\u001b[0m\n\u001b[1;32m    197\u001b[0m         response, content = self.http.request(\n\u001b[0;32m--> 198\u001b[0;31m             uri, method, body=body, headers=request_headers, **kwargs)\n\u001b[0m\u001b[1;32m    199\u001b[0m \u001b[0;34m\u001b[0m\u001b[0m\n\u001b[1;32m    200\u001b[0m         \u001b[0;31m# If the response indicated that the credentials needed to be\u001b[0m\u001b[0;34m\u001b[0m\u001b[0;34m\u001b[0m\u001b[0;34m\u001b[0m\u001b[0m\n",
      "\u001b[0;32m~/opt/miniconda3/envs/cs231n/lib/python3.6/site-packages/httplib2/__init__.py\u001b[0m in \u001b[0;36mrequest\u001b[0;34m(self, uri, method, body, headers, redirections, connection_type)\u001b[0m\n\u001b[1;32m   1989\u001b[0m                         \u001b[0mheaders\u001b[0m\u001b[0;34m,\u001b[0m\u001b[0;34m\u001b[0m\u001b[0;34m\u001b[0m\u001b[0m\n\u001b[1;32m   1990\u001b[0m                         \u001b[0mredirections\u001b[0m\u001b[0;34m,\u001b[0m\u001b[0;34m\u001b[0m\u001b[0;34m\u001b[0m\u001b[0m\n\u001b[0;32m-> 1991\u001b[0;31m                         \u001b[0mcachekey\u001b[0m\u001b[0;34m,\u001b[0m\u001b[0;34m\u001b[0m\u001b[0;34m\u001b[0m\u001b[0m\n\u001b[0m\u001b[1;32m   1992\u001b[0m                     )\n\u001b[1;32m   1993\u001b[0m         \u001b[0;32mexcept\u001b[0m \u001b[0mException\u001b[0m \u001b[0;32mas\u001b[0m \u001b[0me\u001b[0m\u001b[0;34m:\u001b[0m\u001b[0;34m\u001b[0m\u001b[0;34m\u001b[0m\u001b[0m\n",
      "\u001b[0;32m~/opt/miniconda3/envs/cs231n/lib/python3.6/site-packages/httplib2/__init__.py\u001b[0m in \u001b[0;36m_request\u001b[0;34m(self, conn, host, absolute_uri, request_uri, method, body, headers, redirections, cachekey)\u001b[0m\n\u001b[1;32m   1649\u001b[0m \u001b[0;34m\u001b[0m\u001b[0m\n\u001b[1;32m   1650\u001b[0m         (response, content) = self._conn_request(\n\u001b[0;32m-> 1651\u001b[0;31m             \u001b[0mconn\u001b[0m\u001b[0;34m,\u001b[0m \u001b[0mrequest_uri\u001b[0m\u001b[0;34m,\u001b[0m \u001b[0mmethod\u001b[0m\u001b[0;34m,\u001b[0m \u001b[0mbody\u001b[0m\u001b[0;34m,\u001b[0m \u001b[0mheaders\u001b[0m\u001b[0;34m\u001b[0m\u001b[0;34m\u001b[0m\u001b[0m\n\u001b[0m\u001b[1;32m   1652\u001b[0m         )\n\u001b[1;32m   1653\u001b[0m \u001b[0;34m\u001b[0m\u001b[0m\n",
      "\u001b[0;32m~/opt/miniconda3/envs/cs231n/lib/python3.6/site-packages/httplib2shim/__init__.py\u001b[0m in \u001b[0;36m_conn_request\u001b[0;34m(self, conn, request_uri, method, body, headers)\u001b[0m\n\u001b[1;32m    146\u001b[0m                 \u001b[0mretries\u001b[0m\u001b[0;34m=\u001b[0m\u001b[0murllib3\u001b[0m\u001b[0;34m.\u001b[0m\u001b[0mRetry\u001b[0m\u001b[0;34m(\u001b[0m\u001b[0mtotal\u001b[0m\u001b[0;34m=\u001b[0m\u001b[0;32mFalse\u001b[0m\u001b[0;34m,\u001b[0m \u001b[0mredirect\u001b[0m\u001b[0;34m=\u001b[0m\u001b[0;36m0\u001b[0m\u001b[0;34m)\u001b[0m\u001b[0;34m,\u001b[0m\u001b[0;34m\u001b[0m\u001b[0;34m\u001b[0m\u001b[0m\n\u001b[1;32m    147\u001b[0m                 \u001b[0mtimeout\u001b[0m\u001b[0;34m=\u001b[0m\u001b[0murllib3\u001b[0m\u001b[0;34m.\u001b[0m\u001b[0mTimeout\u001b[0m\u001b[0;34m(\u001b[0m\u001b[0mtotal\u001b[0m\u001b[0;34m=\u001b[0m\u001b[0mself\u001b[0m\u001b[0;34m.\u001b[0m\u001b[0mtimeout\u001b[0m\u001b[0;34m)\u001b[0m\u001b[0;34m,\u001b[0m\u001b[0;34m\u001b[0m\u001b[0;34m\u001b[0m\u001b[0m\n\u001b[0;32m--> 148\u001b[0;31m                 decode_content=decode)\n\u001b[0m\u001b[1;32m    149\u001b[0m \u001b[0;34m\u001b[0m\u001b[0m\n\u001b[1;32m    150\u001b[0m             \u001b[0mresponse\u001b[0m \u001b[0;34m=\u001b[0m \u001b[0m_map_response\u001b[0m\u001b[0;34m(\u001b[0m\u001b[0murllib3_response\u001b[0m\u001b[0;34m,\u001b[0m \u001b[0mdecode\u001b[0m\u001b[0;34m=\u001b[0m\u001b[0mdecode\u001b[0m\u001b[0;34m)\u001b[0m\u001b[0;34m\u001b[0m\u001b[0;34m\u001b[0m\u001b[0m\n",
      "\u001b[0;32m~/opt/miniconda3/envs/cs231n/lib/python3.6/site-packages/urllib3/request.py\u001b[0m in \u001b[0;36mrequest\u001b[0;34m(self, method, url, fields, headers, **urlopen_kw)\u001b[0m\n\u001b[1;32m     78\u001b[0m         \u001b[0;32melse\u001b[0m\u001b[0;34m:\u001b[0m\u001b[0;34m\u001b[0m\u001b[0;34m\u001b[0m\u001b[0m\n\u001b[1;32m     79\u001b[0m             return self.request_encode_body(\n\u001b[0;32m---> 80\u001b[0;31m                 \u001b[0mmethod\u001b[0m\u001b[0;34m,\u001b[0m \u001b[0murl\u001b[0m\u001b[0;34m,\u001b[0m \u001b[0mfields\u001b[0m\u001b[0;34m=\u001b[0m\u001b[0mfields\u001b[0m\u001b[0;34m,\u001b[0m \u001b[0mheaders\u001b[0m\u001b[0;34m=\u001b[0m\u001b[0mheaders\u001b[0m\u001b[0;34m,\u001b[0m \u001b[0;34m**\u001b[0m\u001b[0murlopen_kw\u001b[0m\u001b[0;34m\u001b[0m\u001b[0;34m\u001b[0m\u001b[0m\n\u001b[0m\u001b[1;32m     81\u001b[0m             )\n\u001b[1;32m     82\u001b[0m \u001b[0;34m\u001b[0m\u001b[0m\n",
      "\u001b[0;32m~/opt/miniconda3/envs/cs231n/lib/python3.6/site-packages/urllib3/request.py\u001b[0m in \u001b[0;36mrequest_encode_body\u001b[0;34m(self, method, url, fields, headers, encode_multipart, multipart_boundary, **urlopen_kw)\u001b[0m\n\u001b[1;32m    169\u001b[0m         \u001b[0mextra_kw\u001b[0m\u001b[0;34m.\u001b[0m\u001b[0mupdate\u001b[0m\u001b[0;34m(\u001b[0m\u001b[0murlopen_kw\u001b[0m\u001b[0;34m)\u001b[0m\u001b[0;34m\u001b[0m\u001b[0;34m\u001b[0m\u001b[0m\n\u001b[1;32m    170\u001b[0m \u001b[0;34m\u001b[0m\u001b[0m\n\u001b[0;32m--> 171\u001b[0;31m         \u001b[0;32mreturn\u001b[0m \u001b[0mself\u001b[0m\u001b[0;34m.\u001b[0m\u001b[0murlopen\u001b[0m\u001b[0;34m(\u001b[0m\u001b[0mmethod\u001b[0m\u001b[0;34m,\u001b[0m \u001b[0murl\u001b[0m\u001b[0;34m,\u001b[0m \u001b[0;34m**\u001b[0m\u001b[0mextra_kw\u001b[0m\u001b[0;34m)\u001b[0m\u001b[0;34m\u001b[0m\u001b[0;34m\u001b[0m\u001b[0m\n\u001b[0m",
      "\u001b[0;32m~/opt/miniconda3/envs/cs231n/lib/python3.6/site-packages/urllib3/poolmanager.py\u001b[0m in \u001b[0;36murlopen\u001b[0;34m(self, method, url, redirect, **kw)\u001b[0m\n\u001b[1;32m    334\u001b[0m             \u001b[0mresponse\u001b[0m \u001b[0;34m=\u001b[0m \u001b[0mconn\u001b[0m\u001b[0;34m.\u001b[0m\u001b[0murlopen\u001b[0m\u001b[0;34m(\u001b[0m\u001b[0mmethod\u001b[0m\u001b[0;34m,\u001b[0m \u001b[0murl\u001b[0m\u001b[0;34m,\u001b[0m \u001b[0;34m**\u001b[0m\u001b[0mkw\u001b[0m\u001b[0;34m)\u001b[0m\u001b[0;34m\u001b[0m\u001b[0;34m\u001b[0m\u001b[0m\n\u001b[1;32m    335\u001b[0m         \u001b[0;32melse\u001b[0m\u001b[0;34m:\u001b[0m\u001b[0;34m\u001b[0m\u001b[0;34m\u001b[0m\u001b[0m\n\u001b[0;32m--> 336\u001b[0;31m             \u001b[0mresponse\u001b[0m \u001b[0;34m=\u001b[0m \u001b[0mconn\u001b[0m\u001b[0;34m.\u001b[0m\u001b[0murlopen\u001b[0m\u001b[0;34m(\u001b[0m\u001b[0mmethod\u001b[0m\u001b[0;34m,\u001b[0m \u001b[0mu\u001b[0m\u001b[0;34m.\u001b[0m\u001b[0mrequest_uri\u001b[0m\u001b[0;34m,\u001b[0m \u001b[0;34m**\u001b[0m\u001b[0mkw\u001b[0m\u001b[0;34m)\u001b[0m\u001b[0;34m\u001b[0m\u001b[0;34m\u001b[0m\u001b[0m\n\u001b[0m\u001b[1;32m    337\u001b[0m \u001b[0;34m\u001b[0m\u001b[0m\n\u001b[1;32m    338\u001b[0m         \u001b[0mredirect_location\u001b[0m \u001b[0;34m=\u001b[0m \u001b[0mredirect\u001b[0m \u001b[0;32mand\u001b[0m \u001b[0mresponse\u001b[0m\u001b[0;34m.\u001b[0m\u001b[0mget_redirect_location\u001b[0m\u001b[0;34m(\u001b[0m\u001b[0;34m)\u001b[0m\u001b[0;34m\u001b[0m\u001b[0;34m\u001b[0m\u001b[0m\n",
      "\u001b[0;32m~/opt/miniconda3/envs/cs231n/lib/python3.6/site-packages/urllib3/connectionpool.py\u001b[0m in \u001b[0;36murlopen\u001b[0;34m(self, method, url, body, headers, retries, redirect, assert_same_host, timeout, pool_timeout, release_conn, chunked, body_pos, **response_kw)\u001b[0m\n\u001b[1;32m    675\u001b[0m                 \u001b[0mbody\u001b[0m\u001b[0;34m=\u001b[0m\u001b[0mbody\u001b[0m\u001b[0;34m,\u001b[0m\u001b[0;34m\u001b[0m\u001b[0;34m\u001b[0m\u001b[0m\n\u001b[1;32m    676\u001b[0m                 \u001b[0mheaders\u001b[0m\u001b[0;34m=\u001b[0m\u001b[0mheaders\u001b[0m\u001b[0;34m,\u001b[0m\u001b[0;34m\u001b[0m\u001b[0;34m\u001b[0m\u001b[0m\n\u001b[0;32m--> 677\u001b[0;31m                 \u001b[0mchunked\u001b[0m\u001b[0;34m=\u001b[0m\u001b[0mchunked\u001b[0m\u001b[0;34m,\u001b[0m\u001b[0;34m\u001b[0m\u001b[0;34m\u001b[0m\u001b[0m\n\u001b[0m\u001b[1;32m    678\u001b[0m             )\n\u001b[1;32m    679\u001b[0m \u001b[0;34m\u001b[0m\u001b[0m\n",
      "\u001b[0;32m~/opt/miniconda3/envs/cs231n/lib/python3.6/site-packages/urllib3/connectionpool.py\u001b[0m in \u001b[0;36m_make_request\u001b[0;34m(self, conn, method, url, timeout, chunked, **httplib_request_kw)\u001b[0m\n\u001b[1;32m    424\u001b[0m                     \u001b[0;31m# Python 3 (including for exceptions like SystemExit).\u001b[0m\u001b[0;34m\u001b[0m\u001b[0;34m\u001b[0m\u001b[0;34m\u001b[0m\u001b[0m\n\u001b[1;32m    425\u001b[0m                     \u001b[0;31m# Otherwise it looks like a bug in the code.\u001b[0m\u001b[0;34m\u001b[0m\u001b[0;34m\u001b[0m\u001b[0;34m\u001b[0m\u001b[0m\n\u001b[0;32m--> 426\u001b[0;31m                     \u001b[0msix\u001b[0m\u001b[0;34m.\u001b[0m\u001b[0mraise_from\u001b[0m\u001b[0;34m(\u001b[0m\u001b[0me\u001b[0m\u001b[0;34m,\u001b[0m \u001b[0;32mNone\u001b[0m\u001b[0;34m)\u001b[0m\u001b[0;34m\u001b[0m\u001b[0;34m\u001b[0m\u001b[0m\n\u001b[0m\u001b[1;32m    427\u001b[0m         \u001b[0;32mexcept\u001b[0m \u001b[0;34m(\u001b[0m\u001b[0mSocketTimeout\u001b[0m\u001b[0;34m,\u001b[0m \u001b[0mBaseSSLError\u001b[0m\u001b[0;34m,\u001b[0m \u001b[0mSocketError\u001b[0m\u001b[0;34m)\u001b[0m \u001b[0;32mas\u001b[0m \u001b[0me\u001b[0m\u001b[0;34m:\u001b[0m\u001b[0;34m\u001b[0m\u001b[0;34m\u001b[0m\u001b[0m\n\u001b[1;32m    428\u001b[0m             \u001b[0mself\u001b[0m\u001b[0;34m.\u001b[0m\u001b[0m_raise_timeout\u001b[0m\u001b[0;34m(\u001b[0m\u001b[0merr\u001b[0m\u001b[0;34m=\u001b[0m\u001b[0me\u001b[0m\u001b[0;34m,\u001b[0m \u001b[0murl\u001b[0m\u001b[0;34m=\u001b[0m\u001b[0murl\u001b[0m\u001b[0;34m,\u001b[0m \u001b[0mtimeout_value\u001b[0m\u001b[0;34m=\u001b[0m\u001b[0mread_timeout\u001b[0m\u001b[0;34m)\u001b[0m\u001b[0;34m\u001b[0m\u001b[0;34m\u001b[0m\u001b[0m\n",
      "\u001b[0;32m~/opt/miniconda3/envs/cs231n/lib/python3.6/site-packages/urllib3/packages/six.py\u001b[0m in \u001b[0;36mraise_from\u001b[0;34m(value, from_value)\u001b[0m\n",
      "\u001b[0;32m~/opt/miniconda3/envs/cs231n/lib/python3.6/site-packages/urllib3/connectionpool.py\u001b[0m in \u001b[0;36m_make_request\u001b[0;34m(self, conn, method, url, timeout, chunked, **httplib_request_kw)\u001b[0m\n\u001b[1;32m    419\u001b[0m                 \u001b[0;31m# Python 3\u001b[0m\u001b[0;34m\u001b[0m\u001b[0;34m\u001b[0m\u001b[0;34m\u001b[0m\u001b[0m\n\u001b[1;32m    420\u001b[0m                 \u001b[0;32mtry\u001b[0m\u001b[0;34m:\u001b[0m\u001b[0;34m\u001b[0m\u001b[0;34m\u001b[0m\u001b[0m\n\u001b[0;32m--> 421\u001b[0;31m                     \u001b[0mhttplib_response\u001b[0m \u001b[0;34m=\u001b[0m \u001b[0mconn\u001b[0m\u001b[0;34m.\u001b[0m\u001b[0mgetresponse\u001b[0m\u001b[0;34m(\u001b[0m\u001b[0;34m)\u001b[0m\u001b[0;34m\u001b[0m\u001b[0;34m\u001b[0m\u001b[0m\n\u001b[0m\u001b[1;32m    422\u001b[0m                 \u001b[0;32mexcept\u001b[0m \u001b[0mBaseException\u001b[0m \u001b[0;32mas\u001b[0m \u001b[0me\u001b[0m\u001b[0;34m:\u001b[0m\u001b[0;34m\u001b[0m\u001b[0;34m\u001b[0m\u001b[0m\n\u001b[1;32m    423\u001b[0m                     \u001b[0;31m# Remove the TypeError from the exception chain in\u001b[0m\u001b[0;34m\u001b[0m\u001b[0;34m\u001b[0m\u001b[0;34m\u001b[0m\u001b[0m\n",
      "\u001b[0;32m~/opt/miniconda3/envs/cs231n/lib/python3.6/http/client.py\u001b[0m in \u001b[0;36mgetresponse\u001b[0;34m(self)\u001b[0m\n\u001b[1;32m   1352\u001b[0m         \u001b[0;32mtry\u001b[0m\u001b[0;34m:\u001b[0m\u001b[0;34m\u001b[0m\u001b[0;34m\u001b[0m\u001b[0m\n\u001b[1;32m   1353\u001b[0m             \u001b[0;32mtry\u001b[0m\u001b[0;34m:\u001b[0m\u001b[0;34m\u001b[0m\u001b[0;34m\u001b[0m\u001b[0m\n\u001b[0;32m-> 1354\u001b[0;31m                 \u001b[0mresponse\u001b[0m\u001b[0;34m.\u001b[0m\u001b[0mbegin\u001b[0m\u001b[0;34m(\u001b[0m\u001b[0;34m)\u001b[0m\u001b[0;34m\u001b[0m\u001b[0;34m\u001b[0m\u001b[0m\n\u001b[0m\u001b[1;32m   1355\u001b[0m             \u001b[0;32mexcept\u001b[0m \u001b[0mConnectionError\u001b[0m\u001b[0;34m:\u001b[0m\u001b[0;34m\u001b[0m\u001b[0;34m\u001b[0m\u001b[0m\n\u001b[1;32m   1356\u001b[0m                 \u001b[0mself\u001b[0m\u001b[0;34m.\u001b[0m\u001b[0mclose\u001b[0m\u001b[0;34m(\u001b[0m\u001b[0;34m)\u001b[0m\u001b[0;34m\u001b[0m\u001b[0;34m\u001b[0m\u001b[0m\n",
      "\u001b[0;32m~/opt/miniconda3/envs/cs231n/lib/python3.6/http/client.py\u001b[0m in \u001b[0;36mbegin\u001b[0;34m(self)\u001b[0m\n\u001b[1;32m    305\u001b[0m         \u001b[0;31m# read until we get a non-100 response\u001b[0m\u001b[0;34m\u001b[0m\u001b[0;34m\u001b[0m\u001b[0;34m\u001b[0m\u001b[0m\n\u001b[1;32m    306\u001b[0m         \u001b[0;32mwhile\u001b[0m \u001b[0;32mTrue\u001b[0m\u001b[0;34m:\u001b[0m\u001b[0;34m\u001b[0m\u001b[0;34m\u001b[0m\u001b[0m\n\u001b[0;32m--> 307\u001b[0;31m             \u001b[0mversion\u001b[0m\u001b[0;34m,\u001b[0m \u001b[0mstatus\u001b[0m\u001b[0;34m,\u001b[0m \u001b[0mreason\u001b[0m \u001b[0;34m=\u001b[0m \u001b[0mself\u001b[0m\u001b[0;34m.\u001b[0m\u001b[0m_read_status\u001b[0m\u001b[0;34m(\u001b[0m\u001b[0;34m)\u001b[0m\u001b[0;34m\u001b[0m\u001b[0;34m\u001b[0m\u001b[0m\n\u001b[0m\u001b[1;32m    308\u001b[0m             \u001b[0;32mif\u001b[0m \u001b[0mstatus\u001b[0m \u001b[0;34m!=\u001b[0m \u001b[0mCONTINUE\u001b[0m\u001b[0;34m:\u001b[0m\u001b[0;34m\u001b[0m\u001b[0;34m\u001b[0m\u001b[0m\n\u001b[1;32m    309\u001b[0m                 \u001b[0;32mbreak\u001b[0m\u001b[0;34m\u001b[0m\u001b[0;34m\u001b[0m\u001b[0m\n",
      "\u001b[0;32m~/opt/miniconda3/envs/cs231n/lib/python3.6/http/client.py\u001b[0m in \u001b[0;36m_read_status\u001b[0;34m(self)\u001b[0m\n\u001b[1;32m    266\u001b[0m \u001b[0;34m\u001b[0m\u001b[0m\n\u001b[1;32m    267\u001b[0m     \u001b[0;32mdef\u001b[0m \u001b[0m_read_status\u001b[0m\u001b[0;34m(\u001b[0m\u001b[0mself\u001b[0m\u001b[0;34m)\u001b[0m\u001b[0;34m:\u001b[0m\u001b[0;34m\u001b[0m\u001b[0;34m\u001b[0m\u001b[0m\n\u001b[0;32m--> 268\u001b[0;31m         \u001b[0mline\u001b[0m \u001b[0;34m=\u001b[0m \u001b[0mstr\u001b[0m\u001b[0;34m(\u001b[0m\u001b[0mself\u001b[0m\u001b[0;34m.\u001b[0m\u001b[0mfp\u001b[0m\u001b[0;34m.\u001b[0m\u001b[0mreadline\u001b[0m\u001b[0;34m(\u001b[0m\u001b[0m_MAXLINE\u001b[0m \u001b[0;34m+\u001b[0m \u001b[0;36m1\u001b[0m\u001b[0;34m)\u001b[0m\u001b[0;34m,\u001b[0m \u001b[0;34m\"iso-8859-1\"\u001b[0m\u001b[0;34m)\u001b[0m\u001b[0;34m\u001b[0m\u001b[0;34m\u001b[0m\u001b[0m\n\u001b[0m\u001b[1;32m    269\u001b[0m         \u001b[0;32mif\u001b[0m \u001b[0mlen\u001b[0m\u001b[0;34m(\u001b[0m\u001b[0mline\u001b[0m\u001b[0;34m)\u001b[0m \u001b[0;34m>\u001b[0m \u001b[0m_MAXLINE\u001b[0m\u001b[0;34m:\u001b[0m\u001b[0;34m\u001b[0m\u001b[0;34m\u001b[0m\u001b[0m\n\u001b[1;32m    270\u001b[0m             \u001b[0;32mraise\u001b[0m \u001b[0mLineTooLong\u001b[0m\u001b[0;34m(\u001b[0m\u001b[0;34m\"status line\"\u001b[0m\u001b[0;34m)\u001b[0m\u001b[0;34m\u001b[0m\u001b[0;34m\u001b[0m\u001b[0m\n",
      "\u001b[0;32m~/opt/miniconda3/envs/cs231n/lib/python3.6/socket.py\u001b[0m in \u001b[0;36mreadinto\u001b[0;34m(self, b)\u001b[0m\n\u001b[1;32m    584\u001b[0m         \u001b[0;32mwhile\u001b[0m \u001b[0;32mTrue\u001b[0m\u001b[0;34m:\u001b[0m\u001b[0;34m\u001b[0m\u001b[0;34m\u001b[0m\u001b[0m\n\u001b[1;32m    585\u001b[0m             \u001b[0;32mtry\u001b[0m\u001b[0;34m:\u001b[0m\u001b[0;34m\u001b[0m\u001b[0;34m\u001b[0m\u001b[0m\n\u001b[0;32m--> 586\u001b[0;31m                 \u001b[0;32mreturn\u001b[0m \u001b[0mself\u001b[0m\u001b[0;34m.\u001b[0m\u001b[0m_sock\u001b[0m\u001b[0;34m.\u001b[0m\u001b[0mrecv_into\u001b[0m\u001b[0;34m(\u001b[0m\u001b[0mb\u001b[0m\u001b[0;34m)\u001b[0m\u001b[0;34m\u001b[0m\u001b[0;34m\u001b[0m\u001b[0m\n\u001b[0m\u001b[1;32m    587\u001b[0m             \u001b[0;32mexcept\u001b[0m \u001b[0mtimeout\u001b[0m\u001b[0;34m:\u001b[0m\u001b[0;34m\u001b[0m\u001b[0;34m\u001b[0m\u001b[0m\n\u001b[1;32m    588\u001b[0m                 \u001b[0mself\u001b[0m\u001b[0;34m.\u001b[0m\u001b[0m_timeout_occurred\u001b[0m \u001b[0;34m=\u001b[0m \u001b[0;32mTrue\u001b[0m\u001b[0;34m\u001b[0m\u001b[0;34m\u001b[0m\u001b[0m\n",
      "\u001b[0;32m~/opt/miniconda3/envs/cs231n/lib/python3.6/ssl.py\u001b[0m in \u001b[0;36mrecv_into\u001b[0;34m(self, buffer, nbytes, flags)\u001b[0m\n\u001b[1;32m   1010\u001b[0m                   \u001b[0;34m\"non-zero flags not allowed in calls to recv_into() on %s\"\u001b[0m \u001b[0;34m%\u001b[0m\u001b[0;34m\u001b[0m\u001b[0;34m\u001b[0m\u001b[0m\n\u001b[1;32m   1011\u001b[0m                   self.__class__)\n\u001b[0;32m-> 1012\u001b[0;31m             \u001b[0;32mreturn\u001b[0m \u001b[0mself\u001b[0m\u001b[0;34m.\u001b[0m\u001b[0mread\u001b[0m\u001b[0;34m(\u001b[0m\u001b[0mnbytes\u001b[0m\u001b[0;34m,\u001b[0m \u001b[0mbuffer\u001b[0m\u001b[0;34m)\u001b[0m\u001b[0;34m\u001b[0m\u001b[0;34m\u001b[0m\u001b[0m\n\u001b[0m\u001b[1;32m   1013\u001b[0m         \u001b[0;32melse\u001b[0m\u001b[0;34m:\u001b[0m\u001b[0;34m\u001b[0m\u001b[0;34m\u001b[0m\u001b[0m\n\u001b[1;32m   1014\u001b[0m             \u001b[0;32mreturn\u001b[0m \u001b[0msocket\u001b[0m\u001b[0;34m.\u001b[0m\u001b[0mrecv_into\u001b[0m\u001b[0;34m(\u001b[0m\u001b[0mself\u001b[0m\u001b[0;34m,\u001b[0m \u001b[0mbuffer\u001b[0m\u001b[0;34m,\u001b[0m \u001b[0mnbytes\u001b[0m\u001b[0;34m,\u001b[0m \u001b[0mflags\u001b[0m\u001b[0;34m)\u001b[0m\u001b[0;34m\u001b[0m\u001b[0;34m\u001b[0m\u001b[0m\n",
      "\u001b[0;32m~/opt/miniconda3/envs/cs231n/lib/python3.6/ssl.py\u001b[0m in \u001b[0;36mread\u001b[0;34m(self, len, buffer)\u001b[0m\n\u001b[1;32m    872\u001b[0m             \u001b[0;32mraise\u001b[0m \u001b[0mValueError\u001b[0m\u001b[0;34m(\u001b[0m\u001b[0;34m\"Read on closed or unwrapped SSL socket.\"\u001b[0m\u001b[0;34m)\u001b[0m\u001b[0;34m\u001b[0m\u001b[0;34m\u001b[0m\u001b[0m\n\u001b[1;32m    873\u001b[0m         \u001b[0;32mtry\u001b[0m\u001b[0;34m:\u001b[0m\u001b[0;34m\u001b[0m\u001b[0;34m\u001b[0m\u001b[0m\n\u001b[0;32m--> 874\u001b[0;31m             \u001b[0;32mreturn\u001b[0m \u001b[0mself\u001b[0m\u001b[0;34m.\u001b[0m\u001b[0m_sslobj\u001b[0m\u001b[0;34m.\u001b[0m\u001b[0mread\u001b[0m\u001b[0;34m(\u001b[0m\u001b[0mlen\u001b[0m\u001b[0;34m,\u001b[0m \u001b[0mbuffer\u001b[0m\u001b[0;34m)\u001b[0m\u001b[0;34m\u001b[0m\u001b[0;34m\u001b[0m\u001b[0m\n\u001b[0m\u001b[1;32m    875\u001b[0m         \u001b[0;32mexcept\u001b[0m \u001b[0mSSLError\u001b[0m \u001b[0;32mas\u001b[0m \u001b[0mx\u001b[0m\u001b[0;34m:\u001b[0m\u001b[0;34m\u001b[0m\u001b[0;34m\u001b[0m\u001b[0m\n\u001b[1;32m    876\u001b[0m             \u001b[0;32mif\u001b[0m \u001b[0mx\u001b[0m\u001b[0;34m.\u001b[0m\u001b[0margs\u001b[0m\u001b[0;34m[\u001b[0m\u001b[0;36m0\u001b[0m\u001b[0;34m]\u001b[0m \u001b[0;34m==\u001b[0m \u001b[0mSSL_ERROR_EOF\u001b[0m \u001b[0;32mand\u001b[0m \u001b[0mself\u001b[0m\u001b[0;34m.\u001b[0m\u001b[0msuppress_ragged_eofs\u001b[0m\u001b[0;34m:\u001b[0m\u001b[0;34m\u001b[0m\u001b[0;34m\u001b[0m\u001b[0m\n",
      "\u001b[0;32m~/opt/miniconda3/envs/cs231n/lib/python3.6/ssl.py\u001b[0m in \u001b[0;36mread\u001b[0;34m(self, len, buffer)\u001b[0m\n\u001b[1;32m    629\u001b[0m         \"\"\"\n\u001b[1;32m    630\u001b[0m         \u001b[0;32mif\u001b[0m \u001b[0mbuffer\u001b[0m \u001b[0;32mis\u001b[0m \u001b[0;32mnot\u001b[0m \u001b[0;32mNone\u001b[0m\u001b[0;34m:\u001b[0m\u001b[0;34m\u001b[0m\u001b[0;34m\u001b[0m\u001b[0m\n\u001b[0;32m--> 631\u001b[0;31m             \u001b[0mv\u001b[0m \u001b[0;34m=\u001b[0m \u001b[0mself\u001b[0m\u001b[0;34m.\u001b[0m\u001b[0m_sslobj\u001b[0m\u001b[0;34m.\u001b[0m\u001b[0mread\u001b[0m\u001b[0;34m(\u001b[0m\u001b[0mlen\u001b[0m\u001b[0;34m,\u001b[0m \u001b[0mbuffer\u001b[0m\u001b[0;34m)\u001b[0m\u001b[0;34m\u001b[0m\u001b[0;34m\u001b[0m\u001b[0m\n\u001b[0m\u001b[1;32m    632\u001b[0m         \u001b[0;32melse\u001b[0m\u001b[0;34m:\u001b[0m\u001b[0;34m\u001b[0m\u001b[0;34m\u001b[0m\u001b[0m\n\u001b[1;32m    633\u001b[0m             \u001b[0mv\u001b[0m \u001b[0;34m=\u001b[0m \u001b[0mself\u001b[0m\u001b[0;34m.\u001b[0m\u001b[0m_sslobj\u001b[0m\u001b[0;34m.\u001b[0m\u001b[0mread\u001b[0m\u001b[0;34m(\u001b[0m\u001b[0mlen\u001b[0m\u001b[0;34m)\u001b[0m\u001b[0;34m\u001b[0m\u001b[0;34m\u001b[0m\u001b[0m\n",
      "\u001b[0;31mKeyboardInterrupt\u001b[0m: "
     ]
    }
   ],
   "source": [
    "from calendar import monthrange\n",
    "\n",
    "# change this number 10 to eventually download all of the required images.\n",
    "for index, item in enumerate(output):\n",
    "    uuid, coords, date, label = item\n",
    "    year, month = date.split(\"-\")\n",
    "    year, month = int(year), int(month)\n",
    "\n",
    "    geometry = ee.Geometry.Rectangle(list(coords))\n",
    "\n",
    "    # because we are using LANDSAT7, we need to constrain our dates from 2000 onwards; so far, this has been done above (in cell 96)\n",
    "    collection = ee.ImageCollection(\"LANDSAT/LE07/C01/T1\").filterDate(ee.Date.fromYMD(year, month, 1), ee.Date.fromYMD(year, month, monthrange(year, month)[1])).filterBounds(geometry)\n",
    "    trueColor = collection.select(['B3', 'B2', 'B1'])\n",
    "    col_mean = trueColor.mosaic()\n",
    "\n",
    "    # images in the drive have been named corresponding to their index in the above output data structure\n",
    "    task = ee.batch.Export.image.toDrive(\n",
    "        image = col_mean,             \n",
    "        region = geometry,\n",
    "        description = '%d' % (index),\n",
    "        folder = \"world_images\",\n",
    "        scale = 30\n",
    "    )\n",
    "\n",
    "    task.start()"
   ]
  },
  {
   "cell_type": "code",
   "execution_count": null,
   "metadata": {},
   "outputs": [],
   "source": [
    "task.status()"
   ]
  },
  {
   "cell_type": "code",
   "execution_count": null,
   "metadata": {},
   "outputs": [],
   "source": []
  }
 ],
 "metadata": {
  "kernelspec": {
   "display_name": "Python (myenv)",
   "language": "python",
   "name": "myenv"
  },
  "language_info": {
   "codemirror_mode": {
    "name": "ipython",
    "version": 3
   },
   "file_extension": ".py",
   "mimetype": "text/x-python",
   "name": "python",
   "nbconvert_exporter": "python",
   "pygments_lexer": "ipython3",
   "version": "3.7.7-final"
  }
 },
 "nbformat": 4,
 "nbformat_minor": 2
}