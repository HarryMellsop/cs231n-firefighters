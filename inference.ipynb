{
 "cells": [
  {
   "cell_type": "code",
   "execution_count": 2,
   "metadata": {},
   "outputs": [],
   "source": [
    "import numpy as np\n",
    "import pandas as pd\n",
    "import pickle\n",
    "import tensorflow as tf\n",
    "import tensorflow_io as tfio\n",
    "from PIL import Image"
   ]
  },
  {
   "cell_type": "code",
   "execution_count": 3,
   "metadata": {},
   "outputs": [],
   "source": [
    "# load labelled data from pickle\n",
    "with open('./us_wildfire_dataset/labelled_temporal_polygons.pkl', 'rb') as f:\n",
    "    unpickler = pickle.Unpickler(f)\n",
    "    output = unpickler.load()"
   ]
  },
  {
   "cell_type": "code",
   "execution_count": 5,
   "metadata": {
    "tags": [
     "outputPrepend"
    ]
   },
   "outputs": [
    {
     "output_type": "stream",
     "name": "stdout",
     "text": "0.000000 complete\nImage not found for index 0\nImage not found for index 1\nImage not found for index 2\nImage not found for index 3\nImage not found for index 4\nImage not found for index 5\nImage not found for index 6\nImage not found for index 7\nImage not found for index 8\nImage not found for index 9\nImage not found for index 10\nImage not found for index 11\nImage not found for index 12\nImage not found for index 13\nImage not found for index 14\nImage not found for index 15\nImage not found for index 16\nImage not found for index 17\nImage not found for index 18\nImage not found for index 19\nImage not found for index 20\nImage not found for index 21\nImage not found for index 22\nImage not found for index 23\nImage not found for index 24\nImage not found for index 25\nImage not found for index 26\nImage not found for index 27\nImage not found for index 28\nImage not found for index 29\nImage not found for index 30\nImage not found for index 31\nImage not found for index 32\nImage not found for index 33\nImage not found for index 34\nImage not found for index 35\nImage not found for index 36\nImage not found for index 37\nImage not found for index 38\nImage not found for index 39\nImage not found for index 40\nImage not found for index 41\nImage not found for index 42\nImage not found for index 43\nImage not found for index 44\nImage not found for index 45\nImage not found for index 46\nImage not found for index 47\nImage not found for index 48\nImage not found for index 49\n0.250000 complete\nImage not found for index 50\nImage not found for index 51\nImage not found for index 52\nImage not found for index 53\nImage not found for index 54\nImage not found for index 55\nImage not found for index 56\nImage not found for index 57\nImage not found for index 58\nImage not found for index 59\nImage not found for index 60\nImage not found for index 61\nImage not found for index 62\nImage not found for index 63\nImage not found for index 64\nImage not found for index 65\nImage not found for index 66\nImage not found for index 67\nImage not found for index 68\nImage not found for index 69\nImage not found for index 70\nImage not found for index 71\nImage not found for index 72\nImage not found for index 73\nImage not found for index 74\nImage not found for index 75\nImage not found for index 76\nImage not found for index 77\nImage not found for index 78\nImage not found for index 79\nImage not found for index 80\nImage not found for index 81\nImage not found for index 82\nImage not found for index 83\nImage not found for index 84\nImage not found for index 85\nImage not found for index 86\nImage not found for index 87\nImage not found for index 88\nImage not found for index 89\nImage not found for index 90\nImage not found for index 91\nImage not found for index 92\nImage not found for index 93\nImage not found for index 94\nImage not found for index 95\nImage not found for index 96\nImage not found for index 97\nImage not found for index 98\nImage not found for index 99\n0.500000 complete\nImage not found for index 100\nImage not found for index 101\nImage not found for index 102\nImage not found for index 103\nImage not found for index 104\nImage not found for index 105\nImage not found for index 106\nImage not found for index 107\nImage not found for index 108\nImage not found for index 109\nImage not found for index 110\nImage not found for index 111\nImage not found for index 112\nImage not found for index 113\nImage not found for index 114\nImage not found for index 115\nImage not found for index 116\nImage not found for index 117\nImage not found for index 118\nImage not found for index 119\nImage not found for index 120\nImage not found for index 121\nImage not found for index 122\nImage not found for index 123\nImage not found for index 124\nImage not found for index 125\nImage not found for index 126\nImage not found for index 127\nImage not found for index 128\nImage not found for index 129\nImage not found for index 130\nImage not found for index 131\nImage not found for index 132\nImage not found for index 133\nImage not found for index 134\nImage not found for index 135\nImage not found for index 136\nImage not found for index 137\nImage not found for index 138\nImage not found for index 139\nImage not found for index 140\nImage not found for index 141\nImage not found for index 142\nImage not found for index 143\nImage not found for index 144\nImage not found for index 145\nImage not found for index 146\nImage not found for index 147\nImage not found for index 148\nImage not found for index 149\n0.750000 complete\nImage not found for index 150\nImage not found for index 151\nImage not found for index 152\nImage not found for index 153\nImage not found for index 154\nImage not found for index 155\nImage not found for index 156\nImage not found for index 157\nImage not found for index 158\nImage not found for index 159\nImage not found for index 160\nImage not found for index 161\nImage not found for index 162\nImage not found for index 163\nImage not found for index 164\nImage not found for index 165\nImage not found for index 166\nImage not found for index 167\nImage not found for index 168\nImage not found for index 169\nImage not found for index 170\nImage not found for index 171\nImage not found for index 172\nImage not found for index 173\nImage not found for index 174\nImage not found for index 175\nImage not found for index 176\nImage not found for index 177\nImage not found for index 178\nImage not found for index 179\nImage not found for index 180\nImage not found for index 181\nImage not found for index 182\nImage not found for index 183\nImage not found for index 184\nImage not found for index 185\nImage not found for index 186\nImage not found for index 187\nImage not found for index 188\nImage not found for index 189\nImage not found for index 190\nImage not found for index 191\nImage not found for index 192\nImage not found for index 193\nImage not found for index 194\nImage not found for index 195\nImage not found for index 196\nImage not found for index 197\nImage not found for index 198\nImage not found for index 199\n"
    }
   ],
   "source": [
    "all = []\n",
    "newOutput = []\n",
    "numToGrab = 200\n",
    "desiredDimens = (400, 400) # synchronise this with the input dimensions to the model\n",
    "for index in range(numToGrab):\n",
    "    if index % 50 == 0: print(\"%f complete\" % (float(index) / float(numToGrab)))\n",
    "    try:\n",
    "        im = Image.open('./raw_images/%d.tif' % (index))\n",
    "        if im.size != desiredDimens:\n",
    "            if desiredDimens == None:\n",
    "                desiredDimens = im.size\n",
    "            else:\n",
    "                im.thumbnail(desiredDimens)\n",
    "        array = tf.convert_to_tensor(np.array(im), dtype=tf.float64)\n",
    "        all.append(array)\n",
    "        im.close()\n",
    "        newOutput.append(output[index][-1])\n",
    "    except IOError:\n",
    "        print(\"Image not found for index %d\" % index)\n",
    "\n",
    "# somehow we need to get the data here into 9 month intervals that then have a subsequent label"
   ]
  },
  {
   "cell_type": "code",
   "execution_count": null,
   "metadata": {},
   "outputs": [],
   "source": [
    "X = tf.convert_to_tensor(all) # will have shape (N, Height, Width, Channel)\n",
    "del all\n",
    "y = tf.convert_to_tensor(newOutput, dtype=tf.float64)\n",
    "del newOutput\n",
    "\n",
    "print(X.shape)\n",
    "print(y.shape)\n",
    "\n",
    "with open(\"./raw_images/X.pkl\", \"wb\") as f:\n",
    "    pickle.dump(X, f, protocol=pickle.HIGHEST_PROTOCOL)\n",
    "  \n",
    "with open(\"./raw_images/y.pkl\", \"wb\") as f:\n",
    "    pickle.dump(y, f, protocol=pickle.HIGHEST_PROTOCOL)"
   ]
  },
  {
   "cell_type": "code",
   "execution_count": null,
   "metadata": {},
   "outputs": [],
   "source": [
    "# grab the X and y from pickle storage\n",
    "X, y = None, None\n",
    "\n",
    "with open(\"./raw_images/X.pkl\", \"rb\") as f:\n",
    "    unpickler = pickle.Unpickler(f)\n",
    "    X = unpickler.load()\n",
    "\n",
    "with open(\"./raw_images/y.pkl\", \"rb\") as f:\n",
    "    unpickler = pickle.Unpickler(f)\n",
    "    y = unpickler.load()"
   ]
  },
  {
   "cell_type": "code",
   "execution_count": null,
   "metadata": {},
   "outputs": [],
   "source": [
    "from models.convolutional_lstm import ConvolutionalLSTM\n",
    "\n",
    "model = ConvolutionalLSTM()"
   ]
  }
 ],
 "metadata": {
  "language_info": {
   "codemirror_mode": {
    "name": "ipython",
    "version": 2
   },
   "file_extension": ".py",
   "mimetype": "text/x-python",
   "name": "python",
   "nbconvert_exporter": "python",
   "pygments_lexer": "ipython2",
   "version": "3.6.10-final"
  },
  "orig_nbformat": 2,
  "kernelspec": {
   "name": "myenv",
   "display_name": "Python (myenv)"
  }
 },
 "nbformat": 4,
 "nbformat_minor": 2
}